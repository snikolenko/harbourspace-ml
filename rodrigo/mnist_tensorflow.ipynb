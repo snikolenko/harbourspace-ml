{
 "cells": [
  {
   "cell_type": "code",
   "execution_count": 1,
   "metadata": {
    "collapsed": true
   },
   "outputs": [],
   "source": [
    "import tensorflow as tf\n",
    "\n",
    "from tensorflow.examples.tutorials.mnist import input_data"
   ]
  },
  {
   "cell_type": "code",
   "execution_count": 2,
   "metadata": {
    "collapsed": true
   },
   "outputs": [],
   "source": [
    "DATA_DIR = 'tmp/data'\n",
    "MINIBATCH_SIZE = 100"
   ]
  },
  {
   "cell_type": "code",
   "execution_count": 3,
   "metadata": {
    "collapsed": false
   },
   "outputs": [
    {
     "name": "stdout",
     "output_type": "stream",
     "text": [
      "Successfully downloaded train-images-idx3-ubyte.gz 9912422 bytes.\n",
      "Extracting tmp/data/train-images-idx3-ubyte.gz\n",
      "Successfully downloaded train-labels-idx1-ubyte.gz 28881 bytes.\n",
      "Extracting tmp/data/train-labels-idx1-ubyte.gz\n",
      "Successfully downloaded t10k-images-idx3-ubyte.gz 1648877 bytes.\n",
      "Extracting tmp/data/t10k-images-idx3-ubyte.gz\n",
      "Successfully downloaded t10k-labels-idx1-ubyte.gz 4542 bytes.\n",
      "Extracting tmp/data/t10k-labels-idx1-ubyte.gz\n"
     ]
    }
   ],
   "source": [
    "data = input_data.read_data_sets(DATA_DIR, one_hot=True)"
   ]
  },
  {
   "cell_type": "code",
   "execution_count": 4,
   "metadata": {
    "collapsed": true
   },
   "outputs": [],
   "source": [
    "# x = tf.placeholder(tf.float32, [None, 784])\n",
    "x = tf.placeholder(tf.float32)\n",
    "W = tf.Variable(tf.zeros([784, 10]))"
   ]
  },
  {
   "cell_type": "code",
   "execution_count": 5,
   "metadata": {
    "collapsed": true
   },
   "outputs": [],
   "source": [
    "y_true = tf.placeholder(tf.float32)\n",
    "y_pred = tf.matmul(x, W)"
   ]
  },
  {
   "cell_type": "code",
   "execution_count": 6,
   "metadata": {
    "collapsed": true
   },
   "outputs": [],
   "source": [
    "cross_entropy = tf.reduce_mean(\n",
    "    tf.nn.softmax_cross_entropy_with_logits(logits=y_pred, labels=y_true))"
   ]
  },
  {
   "cell_type": "code",
   "execution_count": 7,
   "metadata": {
    "collapsed": true
   },
   "outputs": [],
   "source": []
  },
  {
   "cell_type": "code",
   "execution_count": 9,
   "metadata": {
    "collapsed": true
   },
   "outputs": [],
   "source": [
    "correct_mask = tf.equal(tf.argmax(y_pred, 1), tf.argmax(y_true, 1))"
   ]
  },
  {
   "cell_type": "code",
   "execution_count": 10,
   "metadata": {
    "collapsed": false
   },
   "outputs": [],
   "source": [
    "accuracy = tf.reduce_mean(tf.cast(correct_mask, tf.float32))"
   ]
  },
  {
   "cell_type": "code",
   "execution_count": 16,
   "metadata": {
    "collapsed": false
   },
   "outputs": [
    {
     "name": "stdout",
     "output_type": "stream",
     "text": [
      "99 0.8617\n",
      "199 0.8839\n",
      "299 0.8909\n",
      "399 0.896\n",
      "499 0.9007\n",
      "599 0.9019\n",
      "699 0.9045\n",
      "799 0.9054\n",
      "899 0.9082\n",
      "999 0.9089\n",
      "1099 0.9106\n",
      "1199 0.9107\n",
      "1299 0.9101\n",
      "1399 0.9118\n",
      "1499 0.9129\n",
      "1599 0.9134\n",
      "1699 0.9132\n",
      "1799 0.9144\n",
      "1899 0.9152\n",
      "1999 0.9141\n",
      "2099 0.9145\n",
      "2199 0.9155\n",
      "2299 0.9162\n",
      "2399 0.9172\n",
      "2499 0.916\n",
      "2599 0.9157\n",
      "2699 0.916\n",
      "2799 0.9176\n",
      "2899 0.9171\n",
      "2999 0.9172\n",
      "3099 0.9181\n",
      "3199 0.9188\n",
      "3299 0.9183\n",
      "3399 0.9196\n",
      "3499 0.917\n",
      "3599 0.9182\n",
      "3699 0.9166\n",
      "3799 0.9194\n",
      "3899 0.9198\n",
      "3999 0.9178\n",
      "4099 0.9199\n",
      "4199 0.9187\n",
      "4299 0.92\n",
      "4399 0.9205\n",
      "4499 0.92\n",
      "4599 0.9205\n",
      "4699 0.9205\n",
      "4799 0.9191\n",
      "4899 0.9203\n",
      "4999 0.9203\n",
      "5099 0.9206\n",
      "5199 0.9199\n",
      "5299 0.9198\n",
      "5399 0.9187\n",
      "5499 0.9196\n",
      "5599 0.9204\n",
      "5699 0.9217\n",
      "5799 0.9192\n",
      "5899 0.9209\n",
      "5999 0.9208\n",
      "6099 0.9214\n",
      "6199 0.9212\n",
      "6299 0.9221\n",
      "6399 0.9199\n",
      "6499 0.9213\n",
      "6599 0.9209\n",
      "6699 0.9219\n",
      "6799 0.9222\n",
      "6899 0.9212\n",
      "6999 0.9203\n",
      "7099 0.9204\n",
      "7199 0.9205\n",
      "7299 0.9216\n",
      "7399 0.9209\n",
      "7499 0.9213\n",
      "7599 0.9218\n",
      "7699 0.9215\n",
      "7799 0.9217\n",
      "7899 0.9205\n",
      "7999 0.9218\n",
      "8099 0.9222\n",
      "8199 0.9217\n",
      "8299 0.9214\n",
      "8399 0.9211\n",
      "8499 0.9206\n",
      "8599 0.922\n",
      "8699 0.9209\n",
      "8799 0.9204\n",
      "8899 0.9204\n",
      "8999 0.9212\n",
      "9099 0.9231\n",
      "9199 0.9227\n",
      "9299 0.922\n",
      "9399 0.9219\n",
      "9499 0.9221\n",
      "9599 0.9224\n",
      "9699 0.9224\n",
      "9799 0.9214\n",
      "9899 0.9227\n",
      "9999 0.9225\n"
     ]
    }
   ],
   "source": [
    "gd_step = tf.train.GradientDescentOptimizer(0.1).minimize(cross_entropy)\n",
    "NUM_STEPS = 10000\n",
    "\n",
    "with tf.Session() as sess:\n",
    "   \n",
    "    # Train\n",
    "    init = tf.initialize_all_variables()\n",
    "    sess.run(init)\n",
    "    \n",
    "    for iStep in range(NUM_STEPS):\n",
    "        batch_xs, batch_ys = data.train.next_batch(MINIBATCH_SIZE)\n",
    "        sess.run(gd_step, feed_dict={x: batch_xs, y_true: batch_ys})\n",
    "        # Test\n",
    "        if (iStep + 1) % 100 == 0:\n",
    "            ans = sess.run(\n",
    "                accuracy, \n",
    "                feed_dict={x: data.test.images, y_true: data.test.labels})\n",
    "            print(iStep, ans)"
   ]
  },
  {
   "cell_type": "code",
   "execution_count": 13,
   "metadata": {
    "collapsed": false
   },
   "outputs": [
    {
     "name": "stdout",
     "output_type": "stream",
     "text": [
      "0.9166\n"
     ]
    }
   ],
   "source": [
    "print(ans)"
   ]
  },
  {
   "cell_type": "code",
   "execution_count": null,
   "metadata": {
    "collapsed": true
   },
   "outputs": [],
   "source": []
  }
 ],
 "metadata": {
  "kernelspec": {
   "display_name": "Python 3",
   "language": "python",
   "name": "python3"
  },
  "language_info": {
   "codemirror_mode": {
    "name": "ipython",
    "version": 3
   },
   "file_extension": ".py",
   "mimetype": "text/x-python",
   "name": "python",
   "nbconvert_exporter": "python",
   "pygments_lexer": "ipython3",
   "version": "3.5.2"
  }
 },
 "nbformat": 4,
 "nbformat_minor": 2
}
