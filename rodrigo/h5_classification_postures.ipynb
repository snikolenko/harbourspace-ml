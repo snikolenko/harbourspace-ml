{
 "cells": [
  {
   "cell_type": "code",
   "execution_count": 1,
   "metadata": {
    "collapsed": true
   },
   "outputs": [],
   "source": [
    "import matplotlib.pyplot as plt\n",
    "import numpy as np\n",
    "import pandas as pd\n",
    "\n",
    "from sklearn.linear_model.logistic import LogisticRegression\n",
    "from sklearn.metrics import confusion_matrix\n",
    "from sklearn.model_selection import train_test_split"
   ]
  },
  {
   "cell_type": "code",
   "execution_count": 2,
   "metadata": {
    "collapsed": false
   },
   "outputs": [],
   "source": [
    "# Read file\n",
    "path = '/Users/rodrigovillatoro/Documents/Harbour.Space/07_ml_1/data/ConfLongDemo_JSI.txt'\n",
    "names = ['name', 'tag', 'timestamp', 'date', 'x', 'y', 'z', 'activity']\n",
    "date_parser = lambda x: pd.datetime.strptime(x, '%d.%m.%Y %H:%M:%S:%f')\n",
    "df = pd.read_csv(path, names=names, header=None, parse_dates=[3], date_parser=date_parser)"
   ]
  },
  {
   "cell_type": "code",
   "execution_count": 3,
   "metadata": {
    "collapsed": false
   },
   "outputs": [
    {
     "data": {
      "text/html": [
       "<div>\n",
       "<table border=\"1\" class=\"dataframe\">\n",
       "  <thead>\n",
       "    <tr style=\"text-align: right;\">\n",
       "      <th></th>\n",
       "      <th>name</th>\n",
       "      <th>tag</th>\n",
       "      <th>timestamp</th>\n",
       "      <th>date</th>\n",
       "      <th>x</th>\n",
       "      <th>y</th>\n",
       "      <th>z</th>\n",
       "      <th>activity</th>\n",
       "    </tr>\n",
       "  </thead>\n",
       "  <tbody>\n",
       "    <tr>\n",
       "      <th>0</th>\n",
       "      <td>A01</td>\n",
       "      <td>010-000-024-033</td>\n",
       "      <td>633790226051280329</td>\n",
       "      <td>2009-05-27 14:03:25.127</td>\n",
       "      <td>4.062931</td>\n",
       "      <td>1.892434</td>\n",
       "      <td>0.507425</td>\n",
       "      <td>walking</td>\n",
       "    </tr>\n",
       "    <tr>\n",
       "      <th>1</th>\n",
       "      <td>A01</td>\n",
       "      <td>020-000-033-111</td>\n",
       "      <td>633790226051820913</td>\n",
       "      <td>2009-05-27 14:03:25.183</td>\n",
       "      <td>4.291954</td>\n",
       "      <td>1.781140</td>\n",
       "      <td>1.344495</td>\n",
       "      <td>walking</td>\n",
       "    </tr>\n",
       "    <tr>\n",
       "      <th>2</th>\n",
       "      <td>A01</td>\n",
       "      <td>020-000-032-221</td>\n",
       "      <td>633790226052091205</td>\n",
       "      <td>2009-05-27 14:03:25.210</td>\n",
       "      <td>4.359101</td>\n",
       "      <td>1.826456</td>\n",
       "      <td>0.968821</td>\n",
       "      <td>walking</td>\n",
       "    </tr>\n",
       "    <tr>\n",
       "      <th>3</th>\n",
       "      <td>A01</td>\n",
       "      <td>010-000-024-033</td>\n",
       "      <td>633790226052361498</td>\n",
       "      <td>2009-05-27 14:03:25.237</td>\n",
       "      <td>4.087835</td>\n",
       "      <td>1.879999</td>\n",
       "      <td>0.466983</td>\n",
       "      <td>walking</td>\n",
       "    </tr>\n",
       "    <tr>\n",
       "      <th>4</th>\n",
       "      <td>A01</td>\n",
       "      <td>010-000-030-096</td>\n",
       "      <td>633790226052631792</td>\n",
       "      <td>2009-05-27 14:03:25.263</td>\n",
       "      <td>4.324462</td>\n",
       "      <td>2.072460</td>\n",
       "      <td>0.488065</td>\n",
       "      <td>walking</td>\n",
       "    </tr>\n",
       "  </tbody>\n",
       "</table>\n",
       "</div>"
      ],
      "text/plain": [
       "  name              tag           timestamp                    date         x  \\\n",
       "0  A01  010-000-024-033  633790226051280329 2009-05-27 14:03:25.127  4.062931   \n",
       "1  A01  020-000-033-111  633790226051820913 2009-05-27 14:03:25.183  4.291954   \n",
       "2  A01  020-000-032-221  633790226052091205 2009-05-27 14:03:25.210  4.359101   \n",
       "3  A01  010-000-024-033  633790226052361498 2009-05-27 14:03:25.237  4.087835   \n",
       "4  A01  010-000-030-096  633790226052631792 2009-05-27 14:03:25.263  4.324462   \n",
       "\n",
       "          y         z activity  \n",
       "0  1.892434  0.507425  walking  \n",
       "1  1.781140  1.344495  walking  \n",
       "2  1.826456  0.968821  walking  \n",
       "3  1.879999  0.466983  walking  \n",
       "4  2.072460  0.488065  walking  "
      ]
     },
     "execution_count": 3,
     "metadata": {},
     "output_type": "execute_result"
    }
   ],
   "source": [
    "df.head()"
   ]
  },
  {
   "cell_type": "markdown",
   "metadata": {},
   "source": [
    "## Calculate the change in X, Y, Z coordinates for each person"
   ]
  },
  {
   "cell_type": "code",
   "execution_count": 4,
   "metadata": {
    "collapsed": false
   },
   "outputs": [],
   "source": [
    "data_frames = []\n",
    "for name in df['name'].unique():\n",
    "    temp_df = df[df['name'] == name].copy()\n",
    "    temp_df['dx'] = temp_df['x'].diff(1)\n",
    "    temp_df['dy'] = temp_df['y'].diff(1)\n",
    "    temp_df['dz'] = temp_df['z'].diff(1)\n",
    "    data_frames.append(temp_df)"
   ]
  },
  {
   "cell_type": "code",
   "execution_count": 5,
   "metadata": {
    "collapsed": true
   },
   "outputs": [],
   "source": [
    "# Concatenate the all the data_frames and drop NA's\n",
    "new_df = pd.concat(data_frames)\n",
    "new_df = new_df.dropna()"
   ]
  },
  {
   "cell_type": "code",
   "execution_count": 6,
   "metadata": {
    "collapsed": false
   },
   "outputs": [
    {
     "data": {
      "text/html": [
       "<div>\n",
       "<table border=\"1\" class=\"dataframe\">\n",
       "  <thead>\n",
       "    <tr style=\"text-align: right;\">\n",
       "      <th></th>\n",
       "      <th>name</th>\n",
       "      <th>tag</th>\n",
       "      <th>timestamp</th>\n",
       "      <th>date</th>\n",
       "      <th>x</th>\n",
       "      <th>y</th>\n",
       "      <th>z</th>\n",
       "      <th>activity</th>\n",
       "      <th>dx</th>\n",
       "      <th>dy</th>\n",
       "      <th>dz</th>\n",
       "    </tr>\n",
       "  </thead>\n",
       "  <tbody>\n",
       "    <tr>\n",
       "      <th>1</th>\n",
       "      <td>A01</td>\n",
       "      <td>020-000-033-111</td>\n",
       "      <td>633790226051820913</td>\n",
       "      <td>2009-05-27 14:03:25.183</td>\n",
       "      <td>4.291954</td>\n",
       "      <td>1.781140</td>\n",
       "      <td>1.344495</td>\n",
       "      <td>walking</td>\n",
       "      <td>0.229023</td>\n",
       "      <td>-0.111294</td>\n",
       "      <td>0.837070</td>\n",
       "    </tr>\n",
       "    <tr>\n",
       "      <th>2</th>\n",
       "      <td>A01</td>\n",
       "      <td>020-000-032-221</td>\n",
       "      <td>633790226052091205</td>\n",
       "      <td>2009-05-27 14:03:25.210</td>\n",
       "      <td>4.359101</td>\n",
       "      <td>1.826456</td>\n",
       "      <td>0.968821</td>\n",
       "      <td>walking</td>\n",
       "      <td>0.067148</td>\n",
       "      <td>0.045315</td>\n",
       "      <td>-0.375674</td>\n",
       "    </tr>\n",
       "    <tr>\n",
       "      <th>3</th>\n",
       "      <td>A01</td>\n",
       "      <td>010-000-024-033</td>\n",
       "      <td>633790226052361498</td>\n",
       "      <td>2009-05-27 14:03:25.237</td>\n",
       "      <td>4.087835</td>\n",
       "      <td>1.879999</td>\n",
       "      <td>0.466983</td>\n",
       "      <td>walking</td>\n",
       "      <td>-0.271266</td>\n",
       "      <td>0.053543</td>\n",
       "      <td>-0.501838</td>\n",
       "    </tr>\n",
       "    <tr>\n",
       "      <th>4</th>\n",
       "      <td>A01</td>\n",
       "      <td>010-000-030-096</td>\n",
       "      <td>633790226052631792</td>\n",
       "      <td>2009-05-27 14:03:25.263</td>\n",
       "      <td>4.324462</td>\n",
       "      <td>2.072460</td>\n",
       "      <td>0.488065</td>\n",
       "      <td>walking</td>\n",
       "      <td>0.236627</td>\n",
       "      <td>0.192461</td>\n",
       "      <td>0.021081</td>\n",
       "    </tr>\n",
       "    <tr>\n",
       "      <th>5</th>\n",
       "      <td>A01</td>\n",
       "      <td>020-000-033-111</td>\n",
       "      <td>633790226052902087</td>\n",
       "      <td>2009-05-27 14:03:25.290</td>\n",
       "      <td>4.364077</td>\n",
       "      <td>1.767691</td>\n",
       "      <td>1.299996</td>\n",
       "      <td>walking</td>\n",
       "      <td>0.039615</td>\n",
       "      <td>-0.304768</td>\n",
       "      <td>0.811932</td>\n",
       "    </tr>\n",
       "  </tbody>\n",
       "</table>\n",
       "</div>"
      ],
      "text/plain": [
       "  name              tag           timestamp                    date         x  \\\n",
       "1  A01  020-000-033-111  633790226051820913 2009-05-27 14:03:25.183  4.291954   \n",
       "2  A01  020-000-032-221  633790226052091205 2009-05-27 14:03:25.210  4.359101   \n",
       "3  A01  010-000-024-033  633790226052361498 2009-05-27 14:03:25.237  4.087835   \n",
       "4  A01  010-000-030-096  633790226052631792 2009-05-27 14:03:25.263  4.324462   \n",
       "5  A01  020-000-033-111  633790226052902087 2009-05-27 14:03:25.290  4.364077   \n",
       "\n",
       "          y         z activity        dx        dy        dz  \n",
       "1  1.781140  1.344495  walking  0.229023 -0.111294  0.837070  \n",
       "2  1.826456  0.968821  walking  0.067148  0.045315 -0.375674  \n",
       "3  1.879999  0.466983  walking -0.271266  0.053543 -0.501838  \n",
       "4  2.072460  0.488065  walking  0.236627  0.192461  0.021081  \n",
       "5  1.767691  1.299996  walking  0.039615 -0.304768  0.811932  "
      ]
     },
     "execution_count": 6,
     "metadata": {},
     "output_type": "execute_result"
    }
   ],
   "source": [
    "new_df.head()"
   ]
  },
  {
   "cell_type": "markdown",
   "metadata": {},
   "source": [
    "## Drop Columns that will not be used in the classification"
   ]
  },
  {
   "cell_type": "code",
   "execution_count": 7,
   "metadata": {
    "collapsed": false
   },
   "outputs": [],
   "source": [
    "y = new_df['activity']\n",
    "X = new_df.drop(['activity', 'date', 'timestamp', 'name'], axis=1)"
   ]
  },
  {
   "cell_type": "code",
   "execution_count": 9,
   "metadata": {
    "collapsed": true
   },
   "outputs": [],
   "source": [
    "y = y.astype('category').cat.codes\n",
    "X['tag'] = X['tag'].astype('category').cat.codes"
   ]
  },
  {
   "cell_type": "markdown",
   "metadata": {},
   "source": [
    "## Train Logistic Regression"
   ]
  },
  {
   "cell_type": "code",
   "execution_count": 10,
   "metadata": {
    "collapsed": false
   },
   "outputs": [],
   "source": [
    "X_train, X_test, y_train, y_test = train_test_split(X, y)\n",
    "clf = LogisticRegression()\n",
    "clf.fit(X_train, y_train)\n",
    "predictions = clf.predict(X_test)"
   ]
  },
  {
   "cell_type": "code",
   "execution_count": 11,
   "metadata": {
    "collapsed": false
   },
   "outputs": [
    {
     "data": {
      "text/plain": [
       "0.42049066951394115"
      ]
     },
     "execution_count": 11,
     "metadata": {},
     "output_type": "execute_result"
    }
   ],
   "source": [
    "clf.score(X_test, y_test)"
   ]
  },
  {
   "cell_type": "code",
   "execution_count": 12,
   "metadata": {
    "collapsed": false
   },
   "outputs": [
    {
     "name": "stdout",
     "output_type": "stream",
     "text": [
      "Confussion Matrix:\n",
      "[[    0   412     0     0   205     0    13     0     0     0   130]\n",
      " [    0 11521     0   240   673     0   396     0     0     0   690]\n",
      " [    0  1069     0    37    15     0     0     0     0     0   429]\n",
      " [    0   882     0   255    40     0     0     0     0     0   129]\n",
      " [    0  2811     0    10   992     0     2     0     0     0  2953]\n",
      " [    0   271     0     5    32     0     0     0     0     0   123]\n",
      " [    0  2099     0     0   642     0    72     0     0     0    87]\n",
      " [    0  3589     0   104   242     0    67     0     0     0   708]\n",
      " [    0   214     0     6    11     0     0     0     0     0   114]\n",
      " [    0   588     0     0    25     0     1     0     0     0    29]\n",
      " [    0  3318     0    87   381     0     2     0     0     0  4488]]\n"
     ]
    },
    {
     "data": {
      "image/png": "[encoded data removed]",
      "text/plain": [
       "<matplotlib.figure.Figure at 0x10f948b38>"
      ]
     },
     "metadata": {},
     "output_type": "display_data"
    }
   ],
   "source": [
    "cm = confusion_matrix(y_test, predictions)\n",
    "print('Confussion Matrix:')\n",
    "print(cm)\n",
    "plt.figure(figsize=(12,12))\n",
    "plt.imshow(cm, interpolation='nearest', cmap=plt.cm.Blues)\n",
    "plt.colorbar()\n",
    "plt.show()"
   ]
  },
  {
   "cell_type": "code",
   "execution_count": null,
   "metadata": {
    "collapsed": true
   },
   "outputs": [],
   "source": []
  }
 ],
 "metadata": {
  "kernelspec": {
   "display_name": "Python [default]",
   "language": "python",
   "name": "python3"
  },
  "language_info": {
   "codemirror_mode": {
    "name": "ipython",
    "version": 3
   },
   "file_extension": ".py",
   "mimetype": "text/x-python",
   "name": "python",
   "nbconvert_exporter": "python",
   "pygments_lexer": "ipython3",
   "version": "3.5.2"
  }
 },
 "nbformat": 4,
 "nbformat_minor": 2
}
