{
 "cells": [
  {
   "cell_type": "code",
   "execution_count": 1,
   "metadata": {
    "collapsed": true
   },
   "outputs": [],
   "source": [
    "import matplotlib.pyplot as plt\n",
    "import numpy as np\n",
    "import pandas as pd\n",
    "\n",
    "from sklearn.linear_model.logistic import LogisticRegression\n",
    "from sklearn.metrics import confusion_matrix\n",
    "from sklearn.model_selection import train_test_split\n",
    "from sklearn.naive_bayes import GaussianNB\n",
    "from sklearn.svm import SVC"
   ]
  },
  {
   "cell_type": "code",
   "execution_count": 2,
   "metadata": {
    "collapsed": false
   },
   "outputs": [],
   "source": [
    "# Read file\n",
    "path = '/Users/rodrigovillatoro/Documents/Harbour.Space/07_ml_1/data/ConfLongDemo_JSI.txt'\n",
    "names = ['name', 'tag', 'timestamp', 'date', 'x', 'y', 'z', 'activity']\n",
    "date_parser = lambda x: pd.datetime.strptime(x, '%d.%m.%Y %H:%M:%S:%f')\n",
    "df = pd.read_csv(path, names=names, header=None, parse_dates=[3], date_parser=date_parser)"
   ]
  },
  {
   "cell_type": "code",
   "execution_count": 3,
   "metadata": {
    "collapsed": false
   },
   "outputs": [
    {
     "data": {
      "text/html": [
       "<div>\n",
       "<table border=\"1\" class=\"dataframe\">\n",
       "  <thead>\n",
       "    <tr style=\"text-align: right;\">\n",
       "      <th></th>\n",
       "      <th>name</th>\n",
       "      <th>tag</th>\n",
       "      <th>timestamp</th>\n",
       "      <th>date</th>\n",
       "      <th>x</th>\n",
       "      <th>y</th>\n",
       "      <th>z</th>\n",
       "      <th>activity</th>\n",
       "    </tr>\n",
       "  </thead>\n",
       "  <tbody>\n",
       "    <tr>\n",
       "      <th>0</th>\n",
       "      <td>A01</td>\n",
       "      <td>010-000-024-033</td>\n",
       "      <td>633790226051280329</td>\n",
       "      <td>2009-05-27 14:03:25.127</td>\n",
       "      <td>4.062931</td>\n",
       "      <td>1.892434</td>\n",
       "      <td>0.507425</td>\n",
       "      <td>walking</td>\n",
       "    </tr>\n",
       "    <tr>\n",
       "      <th>1</th>\n",
       "      <td>A01</td>\n",
       "      <td>020-000-033-111</td>\n",
       "      <td>633790226051820913</td>\n",
       "      <td>2009-05-27 14:03:25.183</td>\n",
       "      <td>4.291954</td>\n",
       "      <td>1.781140</td>\n",
       "      <td>1.344495</td>\n",
       "      <td>walking</td>\n",
       "    </tr>\n",
       "    <tr>\n",
       "      <th>2</th>\n",
       "      <td>A01</td>\n",
       "      <td>020-000-032-221</td>\n",
       "      <td>633790226052091205</td>\n",
       "      <td>2009-05-27 14:03:25.210</td>\n",
       "      <td>4.359101</td>\n",
       "      <td>1.826456</td>\n",
       "      <td>0.968821</td>\n",
       "      <td>walking</td>\n",
       "    </tr>\n",
       "    <tr>\n",
       "      <th>3</th>\n",
       "      <td>A01</td>\n",
       "      <td>010-000-024-033</td>\n",
       "      <td>633790226052361498</td>\n",
       "      <td>2009-05-27 14:03:25.237</td>\n",
       "      <td>4.087835</td>\n",
       "      <td>1.879999</td>\n",
       "      <td>0.466983</td>\n",
       "      <td>walking</td>\n",
       "    </tr>\n",
       "    <tr>\n",
       "      <th>4</th>\n",
       "      <td>A01</td>\n",
       "      <td>010-000-030-096</td>\n",
       "      <td>633790226052631792</td>\n",
       "      <td>2009-05-27 14:03:25.263</td>\n",
       "      <td>4.324462</td>\n",
       "      <td>2.072460</td>\n",
       "      <td>0.488065</td>\n",
       "      <td>walking</td>\n",
       "    </tr>\n",
       "  </tbody>\n",
       "</table>\n",
       "</div>"
      ],
      "text/plain": [
       "  name              tag           timestamp                    date         x  \\\n",
       "0  A01  010-000-024-033  633790226051280329 2009-05-27 14:03:25.127  4.062931   \n",
       "1  A01  020-000-033-111  633790226051820913 2009-05-27 14:03:25.183  4.291954   \n",
       "2  A01  020-000-032-221  633790226052091205 2009-05-27 14:03:25.210  4.359101   \n",
       "3  A01  010-000-024-033  633790226052361498 2009-05-27 14:03:25.237  4.087835   \n",
       "4  A01  010-000-030-096  633790226052631792 2009-05-27 14:03:25.263  4.324462   \n",
       "\n",
       "          y         z activity  \n",
       "0  1.892434  0.507425  walking  \n",
       "1  1.781140  1.344495  walking  \n",
       "2  1.826456  0.968821  walking  \n",
       "3  1.879999  0.466983  walking  \n",
       "4  2.072460  0.488065  walking  "
      ]
     },
     "execution_count": 3,
     "metadata": {},
     "output_type": "execute_result"
    }
   ],
   "source": [
    "df.head()"
   ]
  },
  {
   "cell_type": "code",
   "execution_count": 4,
   "metadata": {
    "collapsed": false
   },
   "outputs": [],
   "source": [
    "names = df['name'].unique()\n",
    "tags = df['tag'].unique()"
   ]
  },
  {
   "cell_type": "code",
   "execution_count": 5,
   "metadata": {
    "collapsed": false
   },
   "outputs": [],
   "source": [
    "df = df.sort_values(by=['name', 'tag', 'date'])"
   ]
  },
  {
   "cell_type": "code",
   "execution_count": 6,
   "metadata": {
    "collapsed": false
   },
   "outputs": [
    {
     "data": {
      "text/plain": [
       "(164860, 8)"
      ]
     },
     "execution_count": 6,
     "metadata": {},
     "output_type": "execute_result"
    }
   ],
   "source": [
    "df.shape"
   ]
  },
  {
   "cell_type": "markdown",
   "metadata": {},
   "source": [
    "## Some exploratory analysis"
   ]
  },
  {
   "cell_type": "code",
   "execution_count": 7,
   "metadata": {
    "collapsed": false
   },
   "outputs": [],
   "source": [
    "a01 = df[df['name'] == 'A01']\n",
    "a01 = a01[a01['tag'] == '010-000-024-033']"
   ]
  },
  {
   "cell_type": "code",
   "execution_count": 8,
   "metadata": {
    "collapsed": false
   },
   "outputs": [
    {
     "data": {
      "text/plain": [
       "(1672, 8)"
      ]
     },
     "execution_count": 8,
     "metadata": {},
     "output_type": "execute_result"
    }
   ],
   "source": [
    "a01.shape"
   ]
  },
  {
   "cell_type": "code",
   "execution_count": 9,
   "metadata": {
    "collapsed": false
   },
   "outputs": [],
   "source": [
    "a01['dx'] = a01['x'].diff(1)"
   ]
  },
  {
   "cell_type": "code",
   "execution_count": 10,
   "metadata": {
    "collapsed": false
   },
   "outputs": [
    {
     "data": {
      "text/html": [
       "<div>\n",
       "<table border=\"1\" class=\"dataframe\">\n",
       "  <thead>\n",
       "    <tr style=\"text-align: right;\">\n",
       "      <th></th>\n",
       "      <th>name</th>\n",
       "      <th>tag</th>\n",
       "      <th>timestamp</th>\n",
       "      <th>date</th>\n",
       "      <th>x</th>\n",
       "      <th>y</th>\n",
       "      <th>z</th>\n",
       "      <th>activity</th>\n",
       "      <th>dx</th>\n",
       "    </tr>\n",
       "  </thead>\n",
       "  <tbody>\n",
       "    <tr>\n",
       "      <th>0</th>\n",
       "      <td>A01</td>\n",
       "      <td>010-000-024-033</td>\n",
       "      <td>633790226051280329</td>\n",
       "      <td>2009-05-27 14:03:25.127</td>\n",
       "      <td>4.062931</td>\n",
       "      <td>1.892434</td>\n",
       "      <td>0.507425</td>\n",
       "      <td>walking</td>\n",
       "      <td>NaN</td>\n",
       "    </tr>\n",
       "    <tr>\n",
       "      <th>3</th>\n",
       "      <td>A01</td>\n",
       "      <td>010-000-024-033</td>\n",
       "      <td>633790226052361498</td>\n",
       "      <td>2009-05-27 14:03:25.237</td>\n",
       "      <td>4.087835</td>\n",
       "      <td>1.879999</td>\n",
       "      <td>0.466983</td>\n",
       "      <td>walking</td>\n",
       "      <td>0.024904</td>\n",
       "    </tr>\n",
       "    <tr>\n",
       "      <th>7</th>\n",
       "      <td>A01</td>\n",
       "      <td>010-000-024-033</td>\n",
       "      <td>633790226053442677</td>\n",
       "      <td>2009-05-27 14:03:25.343</td>\n",
       "      <td>3.958496</td>\n",
       "      <td>1.703563</td>\n",
       "      <td>0.511041</td>\n",
       "      <td>walking</td>\n",
       "      <td>-0.129339</td>\n",
       "    </tr>\n",
       "    <tr>\n",
       "      <th>9</th>\n",
       "      <td>A01</td>\n",
       "      <td>010-000-024-033</td>\n",
       "      <td>633790226054523854</td>\n",
       "      <td>2009-05-27 14:03:25.453</td>\n",
       "      <td>4.016991</td>\n",
       "      <td>1.734065</td>\n",
       "      <td>0.193167</td>\n",
       "      <td>walking</td>\n",
       "      <td>0.058495</td>\n",
       "    </tr>\n",
       "    <tr>\n",
       "      <th>13</th>\n",
       "      <td>A01</td>\n",
       "      <td>010-000-024-033</td>\n",
       "      <td>633790226055605037</td>\n",
       "      <td>2009-05-27 14:03:25.560</td>\n",
       "      <td>3.748375</td>\n",
       "      <td>2.073422</td>\n",
       "      <td>0.254482</td>\n",
       "      <td>walking</td>\n",
       "      <td>-0.268616</td>\n",
       "    </tr>\n",
       "  </tbody>\n",
       "</table>\n",
       "</div>"
      ],
      "text/plain": [
       "   name              tag           timestamp                    date  \\\n",
       "0   A01  010-000-024-033  633790226051280329 2009-05-27 14:03:25.127   \n",
       "3   A01  010-000-024-033  633790226052361498 2009-05-27 14:03:25.237   \n",
       "7   A01  010-000-024-033  633790226053442677 2009-05-27 14:03:25.343   \n",
       "9   A01  010-000-024-033  633790226054523854 2009-05-27 14:03:25.453   \n",
       "13  A01  010-000-024-033  633790226055605037 2009-05-27 14:03:25.560   \n",
       "\n",
       "           x         y         z activity        dx  \n",
       "0   4.062931  1.892434  0.507425  walking       NaN  \n",
       "3   4.087835  1.879999  0.466983  walking  0.024904  \n",
       "7   3.958496  1.703563  0.511041  walking -0.129339  \n",
       "9   4.016991  1.734065  0.193167  walking  0.058495  \n",
       "13  3.748375  2.073422  0.254482  walking -0.268616  "
      ]
     },
     "execution_count": 10,
     "metadata": {},
     "output_type": "execute_result"
    }
   ],
   "source": [
    "a01.head()"
   ]
  },
  {
   "cell_type": "code",
   "execution_count": 11,
   "metadata": {
    "collapsed": true
   },
   "outputs": [],
   "source": [
    "time_delta = a01['date'].diff(1)"
   ]
  },
  {
   "cell_type": "code",
   "execution_count": 12,
   "metadata": {
    "collapsed": false
   },
   "outputs": [
    {
     "data": {
      "text/plain": [
       "dtype('<m8[ns]')"
      ]
     },
     "execution_count": 12,
     "metadata": {},
     "output_type": "execute_result"
    }
   ],
   "source": [
    "time_delta.dtype"
   ]
  },
  {
   "cell_type": "code",
   "execution_count": 13,
   "metadata": {
    "collapsed": false
   },
   "outputs": [
    {
     "data": {
      "text/plain": [
       "array([110000000, 106000000, 110000000, ..., 106000000, 110000000,\n",
       "       107000000], dtype='timedelta64[ns]')"
      ]
     },
     "execution_count": 13,
     "metadata": {},
     "output_type": "execute_result"
    }
   ],
   "source": [
    "time_delta[1:].values"
   ]
  },
  {
   "cell_type": "code",
   "execution_count": 14,
   "metadata": {
    "collapsed": false
   },
   "outputs": [
    {
     "data": {
      "image/png": "[encoded data removed]",
      "text/plain": [
       "<matplotlib.figure.Figure at 0x112f1e5c0>"
      ]
     },
     "metadata": {},
     "output_type": "display_data"
    }
   ],
   "source": [
    "plt.figure(figsize=(15, 12))\n",
    "plt.plot(a01['date'], a01['x'])\n",
    "plt.show()"
   ]
  },
  {
   "cell_type": "markdown",
   "metadata": {},
   "source": [
    "## Calculate the change in X, Y, Z coordinates for each person"
   ]
  },
  {
   "cell_type": "code",
   "execution_count": 15,
   "metadata": {
    "collapsed": false
   },
   "outputs": [],
   "source": [
    "data_frames = []\n",
    "for name in names:\n",
    "    temp_df1 = df[df['name'] == name].copy()\n",
    "    for tag in tags:\n",
    "        temp_df2 = temp_df1[temp_df1['tag'] == tag].copy()\n",
    "        time_delta = temp_df2['date'].diff(1)\n",
    "        temp_df2['dx'] = temp_df2['x'].diff(1)\n",
    "        temp_df2['dy'] = temp_df2['y'].diff(1)\n",
    "        temp_df2['dz'] = temp_df2['z'].diff(1)\n",
    "        data_frames.append(temp_df2)"
   ]
  },
  {
   "cell_type": "code",
   "execution_count": 16,
   "metadata": {
    "collapsed": true
   },
   "outputs": [],
   "source": [
    "# Concatenate the all the data_frames and drop NA's\n",
    "new_df = pd.concat(data_frames)\n",
    "new_df = new_df.dropna()"
   ]
  },
  {
   "cell_type": "code",
   "execution_count": 17,
   "metadata": {
    "collapsed": false
   },
   "outputs": [
    {
     "data": {
      "text/plain": [
       "(164760, 11)"
      ]
     },
     "execution_count": 17,
     "metadata": {},
     "output_type": "execute_result"
    }
   ],
   "source": [
    "new_df.shape"
   ]
  },
  {
   "cell_type": "code",
   "execution_count": 18,
   "metadata": {
    "collapsed": false
   },
   "outputs": [],
   "source": [
    "tags = pd.get_dummies(df['tag'], prefix='tag')\n",
    "names = pd.get_dummies(df['name'], prefix='name')"
   ]
  },
  {
   "cell_type": "code",
   "execution_count": 19,
   "metadata": {
    "collapsed": false
   },
   "outputs": [],
   "source": [
    "new_df = new_df.join([tags, names])"
   ]
  },
  {
   "cell_type": "code",
   "execution_count": 20,
   "metadata": {
    "collapsed": false
   },
   "outputs": [
    {
     "data": {
      "text/plain": [
       "(164760, 40)"
      ]
     },
     "execution_count": 20,
     "metadata": {},
     "output_type": "execute_result"
    }
   ],
   "source": [
    "new_df.shape"
   ]
  },
  {
   "cell_type": "markdown",
   "metadata": {},
   "source": [
    "## Drop Columns that will not be used in the classification"
   ]
  },
  {
   "cell_type": "code",
   "execution_count": 21,
   "metadata": {
    "collapsed": false
   },
   "outputs": [],
   "source": [
    "y = new_df['activity']\n",
    "y = y.astype('category').cat.codes"
   ]
  },
  {
   "cell_type": "code",
   "execution_count": 22,
   "metadata": {
    "collapsed": true
   },
   "outputs": [],
   "source": [
    "X = new_df.drop(['activity', 'date', 'timestamp', 'tag', 'name'], axis=1)"
   ]
  },
  {
   "cell_type": "code",
   "execution_count": 23,
   "metadata": {
    "collapsed": false
   },
   "outputs": [
    {
     "data": {
      "text/plain": [
       "Index(['x', 'y', 'z', 'dx', 'dy', 'dz', 'tag_010-000-024-033',\n",
       "       'tag_010-000-030-096', 'tag_020-000-032-221', 'tag_020-000-033-111',\n",
       "       'name_A01', 'name_A02', 'name_A03', 'name_A04', 'name_A05', 'name_B01',\n",
       "       'name_B02', 'name_B03', 'name_B04', 'name_B05', 'name_C01', 'name_C02',\n",
       "       'name_C03', 'name_C04', 'name_C05', 'name_D01', 'name_D02', 'name_D03',\n",
       "       'name_D04', 'name_D05', 'name_E01', 'name_E02', 'name_E03', 'name_E04',\n",
       "       'name_E05'],\n",
       "      dtype='object')"
      ]
     },
     "execution_count": 23,
     "metadata": {},
     "output_type": "execute_result"
    }
   ],
   "source": [
    "X.columns"
   ]
  },
  {
   "cell_type": "code",
   "execution_count": 24,
   "metadata": {
    "collapsed": true
   },
   "outputs": [],
   "source": [
    "# Split into train and test sets\n",
    "X_train, X_test, y_train, y_test = train_test_split(X, y)"
   ]
  },
  {
   "cell_type": "markdown",
   "metadata": {},
   "source": [
    "## Train Logistic Regression"
   ]
  },
  {
   "cell_type": "code",
   "execution_count": 25,
   "metadata": {
    "collapsed": false
   },
   "outputs": [],
   "source": [
    "clf = LogisticRegression()\n",
    "clf.fit(X_train, y_train)\n",
    "predictions = clf.predict(X_test)"
   ]
  },
  {
   "cell_type": "code",
   "execution_count": 26,
   "metadata": {
    "collapsed": false
   },
   "outputs": [
    {
     "data": {
      "text/plain": [
       "0.40706482155863072"
      ]
     },
     "execution_count": 26,
     "metadata": {},
     "output_type": "execute_result"
    }
   ],
   "source": [
    "clf.score(X_test, y_test)"
   ]
  },
  {
   "cell_type": "code",
   "execution_count": 27,
   "metadata": {
    "collapsed": false
   },
   "outputs": [
    {
     "name": "stdout",
     "output_type": "stream",
     "text": [
      "Confussion Matrix:\n",
      "[[    0   403     0     0   175     0     5     0     0     0   184]\n",
      " [    0 11021     0   210   929     0   204     0     0     0  1272]\n",
      " [    0  1101     1    24    20     0     0     0     0     0   416]\n",
      " [    0   874     0   197    43     0     0     0     0     0   159]\n",
      " [    0  3062     0     8  1303     0     2     0     0     0  2372]\n",
      " [    0   294     0     1    36     0     0     0     0     0   127]\n",
      " [    0  2289     0     1   375     0   303     0     0     0    72]\n",
      " [    0  3359     1    91   210     0    42     0     0     0   830]\n",
      " [    0   239     0     0     9     0     0     0     0     0    78]\n",
      " [    0   657     0     0    20     0     1     0     0     0    32]\n",
      " [    0  3773     0    75   342     0     6     0     0     0  3942]]\n"
     ]
    },
    {
     "data": {
      "image/png": "[encoded data removed]",
      "text/plain": [
       "<matplotlib.figure.Figure at 0x112c316d8>"
      ]
     },
     "metadata": {},
     "output_type": "display_data"
    }
   ],
   "source": [
    "cm = confusion_matrix(y_test, predictions)\n",
    "print('Confussion Matrix:')\n",
    "print(cm)\n",
    "plt.figure(figsize=(12,12))\n",
    "plt.imshow(cm, interpolation='nearest', cmap=plt.cm.Blues)\n",
    "plt.colorbar()\n",
    "plt.show()"
   ]
  },
  {
   "cell_type": "markdown",
   "metadata": {},
   "source": [
    "## GaussianNB"
   ]
  },
  {
   "cell_type": "code",
   "execution_count": 28,
   "metadata": {
    "collapsed": false
   },
   "outputs": [
    {
     "data": {
      "text/plain": [
       "0.18407380432143725"
      ]
     },
     "execution_count": 28,
     "metadata": {},
     "output_type": "execute_result"
    }
   ],
   "source": [
    "clf = GaussianNB()\n",
    "clf.fit(X_train, y_train)\n",
    "predictions = clf.predict(X_test)\n",
    "clf.score(X_test, y_test)"
   ]
  },
  {
   "cell_type": "code",
   "execution_count": null,
   "metadata": {
    "collapsed": true
   },
   "outputs": [],
   "source": []
  }
 ],
 "metadata": {
  "kernelspec": {
   "display_name": "Python [default]",
   "language": "python",
   "name": "python3"
  },
  "language_info": {
   "codemirror_mode": {
    "name": "ipython",
    "version": 3
   },
   "file_extension": ".py",
   "mimetype": "text/x-python",
   "name": "python",
   "nbconvert_exporter": "python",
   "pygments_lexer": "ipython3",
   "version": "3.5.2"
  }
 },
 "nbformat": 4,
 "nbformat_minor": 2
}
