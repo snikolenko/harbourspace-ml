{
 "cells": [
  {
   "cell_type": "code",
   "execution_count": 1,
   "metadata": {
    "collapsed": true
   },
   "outputs": [],
   "source": [
    "import datetime as dt\n",
    "import matplotlib.pyplot as plt\n",
    "import numpy as np\n",
    "import pandas as pd\n",
    "import seaborn as sns\n",
    "\n",
    "from sklearn.linear_model.logistic import LogisticRegression\n",
    "from sklearn.metrics import confusion_matrix\n",
    "from sklearn.model_selection import train_test_split\n",
    "from sklearn.naive_bayes import GaussianNB\n",
    "from sklearn.neighbors import KNeighborsClassifier\n",
    "from sklearn.preprocessing import StandardScaler\n",
    "from sklearn.svm import SVC"
   ]
  },
  {
   "cell_type": "code",
   "execution_count": 2,
   "metadata": {
    "collapsed": false
   },
   "outputs": [],
   "source": [
    "# Read file\n",
    "path = '/Users/rodrigovillatoro/Documents/Harbour.Space/07_ml_1/data/ConfLongDemo_JSI.txt'\n",
    "names = ['name', 'tag', 'timestamp', 'date', 'x', 'y', 'z', 'activity']\n",
    "date_parser = lambda x: pd.datetime.strptime(x, '%d.%m.%Y %H:%M:%S:%f')\n",
    "df = pd.read_csv(path, names=names, header=None, parse_dates=[3], date_parser=date_parser)"
   ]
  },
  {
   "cell_type": "code",
   "execution_count": 3,
   "metadata": {
    "collapsed": false
   },
   "outputs": [
    {
     "data": {
      "text/html": [
       "<div>\n",
       "<table border=\"1\" class=\"dataframe\">\n",
       "  <thead>\n",
       "    <tr style=\"text-align: right;\">\n",
       "      <th></th>\n",
       "      <th>name</th>\n",
       "      <th>tag</th>\n",
       "      <th>timestamp</th>\n",
       "      <th>date</th>\n",
       "      <th>x</th>\n",
       "      <th>y</th>\n",
       "      <th>z</th>\n",
       "      <th>activity</th>\n",
       "    </tr>\n",
       "  </thead>\n",
       "  <tbody>\n",
       "    <tr>\n",
       "      <th>0</th>\n",
       "      <td>A01</td>\n",
       "      <td>010-000-024-033</td>\n",
       "      <td>633790226051280329</td>\n",
       "      <td>2009-05-27 14:03:25.127</td>\n",
       "      <td>4.062931</td>\n",
       "      <td>1.892434</td>\n",
       "      <td>0.507425</td>\n",
       "      <td>walking</td>\n",
       "    </tr>\n",
       "    <tr>\n",
       "      <th>1</th>\n",
       "      <td>A01</td>\n",
       "      <td>020-000-033-111</td>\n",
       "      <td>633790226051820913</td>\n",
       "      <td>2009-05-27 14:03:25.183</td>\n",
       "      <td>4.291954</td>\n",
       "      <td>1.781140</td>\n",
       "      <td>1.344495</td>\n",
       "      <td>walking</td>\n",
       "    </tr>\n",
       "    <tr>\n",
       "      <th>2</th>\n",
       "      <td>A01</td>\n",
       "      <td>020-000-032-221</td>\n",
       "      <td>633790226052091205</td>\n",
       "      <td>2009-05-27 14:03:25.210</td>\n",
       "      <td>4.359101</td>\n",
       "      <td>1.826456</td>\n",
       "      <td>0.968821</td>\n",
       "      <td>walking</td>\n",
       "    </tr>\n",
       "    <tr>\n",
       "      <th>3</th>\n",
       "      <td>A01</td>\n",
       "      <td>010-000-024-033</td>\n",
       "      <td>633790226052361498</td>\n",
       "      <td>2009-05-27 14:03:25.237</td>\n",
       "      <td>4.087835</td>\n",
       "      <td>1.879999</td>\n",
       "      <td>0.466983</td>\n",
       "      <td>walking</td>\n",
       "    </tr>\n",
       "    <tr>\n",
       "      <th>4</th>\n",
       "      <td>A01</td>\n",
       "      <td>010-000-030-096</td>\n",
       "      <td>633790226052631792</td>\n",
       "      <td>2009-05-27 14:03:25.263</td>\n",
       "      <td>4.324462</td>\n",
       "      <td>2.072460</td>\n",
       "      <td>0.488065</td>\n",
       "      <td>walking</td>\n",
       "    </tr>\n",
       "  </tbody>\n",
       "</table>\n",
       "</div>"
      ],
      "text/plain": [
       "  name              tag           timestamp                    date         x  \\\n",
       "0  A01  010-000-024-033  633790226051280329 2009-05-27 14:03:25.127  4.062931   \n",
       "1  A01  020-000-033-111  633790226051820913 2009-05-27 14:03:25.183  4.291954   \n",
       "2  A01  020-000-032-221  633790226052091205 2009-05-27 14:03:25.210  4.359101   \n",
       "3  A01  010-000-024-033  633790226052361498 2009-05-27 14:03:25.237  4.087835   \n",
       "4  A01  010-000-030-096  633790226052631792 2009-05-27 14:03:25.263  4.324462   \n",
       "\n",
       "          y         z activity  \n",
       "0  1.892434  0.507425  walking  \n",
       "1  1.781140  1.344495  walking  \n",
       "2  1.826456  0.968821  walking  \n",
       "3  1.879999  0.466983  walking  \n",
       "4  2.072460  0.488065  walking  "
      ]
     },
     "execution_count": 3,
     "metadata": {},
     "output_type": "execute_result"
    }
   ],
   "source": [
    "df.head()"
   ]
  },
  {
   "cell_type": "code",
   "execution_count": 4,
   "metadata": {
    "collapsed": false
   },
   "outputs": [],
   "source": [
    "names = df['name'].unique()\n",
    "tags = df['tag'].unique()"
   ]
  },
  {
   "cell_type": "code",
   "execution_count": 5,
   "metadata": {
    "collapsed": false
   },
   "outputs": [],
   "source": [
    "df = df.sort_values(by=['name', 'tag', 'date'])"
   ]
  },
  {
   "cell_type": "code",
   "execution_count": 6,
   "metadata": {
    "collapsed": false
   },
   "outputs": [
    {
     "data": {
      "text/plain": [
       "(164860, 8)"
      ]
     },
     "execution_count": 6,
     "metadata": {},
     "output_type": "execute_result"
    }
   ],
   "source": [
    "df.shape"
   ]
  },
  {
   "cell_type": "markdown",
   "metadata": {},
   "source": [
    "## Some exploratory analysis"
   ]
  },
  {
   "cell_type": "code",
   "execution_count": 7,
   "metadata": {
    "collapsed": false
   },
   "outputs": [
    {
     "data": {
      "text/plain": [
       "E03    9112\n",
       "E01    9098\n",
       "E05    8893\n",
       "E04    8514\n",
       "E02    8075\n",
       "D01    7463\n",
       "B01    6647\n",
       "D03    6562\n",
       "C05    6490\n",
       "D02    6416\n",
       "C04    6323\n",
       "C01    6297\n",
       "C03    6267\n",
       "C02    6216\n",
       "B02    6091\n",
       "D05    6057\n",
       "B05    5953\n",
       "A01    5830\n",
       "B04    5789\n",
       "A02    5691\n",
       "B03    5670\n",
       "D04    5454\n",
       "A04    5402\n",
       "A03    5326\n",
       "A05    5224\n",
       "Name: name, dtype: int64"
      ]
     },
     "execution_count": 7,
     "metadata": {},
     "output_type": "execute_result"
    }
   ],
   "source": [
    "df['name'].value_counts()"
   ]
  },
  {
   "cell_type": "code",
   "execution_count": 8,
   "metadata": {
    "collapsed": true
   },
   "outputs": [],
   "source": [
    "# Work with only A01\n",
    "a01 = df[df['name'] == 'A01'].copy()"
   ]
  },
  {
   "cell_type": "code",
   "execution_count": 9,
   "metadata": {
    "collapsed": false
   },
   "outputs": [],
   "source": [
    "# Work with ANKLE_LEFT only  \n",
    "a01_t = a01[a01['tag'] == '010-000-024-033'].copy()"
   ]
  },
  {
   "cell_type": "code",
   "execution_count": 10,
   "metadata": {
    "collapsed": false
   },
   "outputs": [
    {
     "name": "stdout",
     "output_type": "stream",
     "text": [
      "(5830, 8)\n",
      "(1672, 8)\n"
     ]
    }
   ],
   "source": [
    "print(a01.shape)\n",
    "print(a01_t.shape)"
   ]
  },
  {
   "cell_type": "code",
   "execution_count": 11,
   "metadata": {
    "collapsed": false
   },
   "outputs": [],
   "source": [
    "a01_t['dx'] = a01_t['x'].diff(1)"
   ]
  },
  {
   "cell_type": "code",
   "execution_count": 12,
   "metadata": {
    "collapsed": false
   },
   "outputs": [
    {
     "data": {
      "text/html": [
       "<div>\n",
       "<table border=\"1\" class=\"dataframe\">\n",
       "  <thead>\n",
       "    <tr style=\"text-align: right;\">\n",
       "      <th></th>\n",
       "      <th>name</th>\n",
       "      <th>tag</th>\n",
       "      <th>timestamp</th>\n",
       "      <th>date</th>\n",
       "      <th>x</th>\n",
       "      <th>y</th>\n",
       "      <th>z</th>\n",
       "      <th>activity</th>\n",
       "      <th>dx</th>\n",
       "    </tr>\n",
       "  </thead>\n",
       "  <tbody>\n",
       "    <tr>\n",
       "      <th>0</th>\n",
       "      <td>A01</td>\n",
       "      <td>010-000-024-033</td>\n",
       "      <td>633790226051280329</td>\n",
       "      <td>2009-05-27 14:03:25.127</td>\n",
       "      <td>4.062931</td>\n",
       "      <td>1.892434</td>\n",
       "      <td>0.507425</td>\n",
       "      <td>walking</td>\n",
       "      <td>NaN</td>\n",
       "    </tr>\n",
       "    <tr>\n",
       "      <th>3</th>\n",
       "      <td>A01</td>\n",
       "      <td>010-000-024-033</td>\n",
       "      <td>633790226052361498</td>\n",
       "      <td>2009-05-27 14:03:25.237</td>\n",
       "      <td>4.087835</td>\n",
       "      <td>1.879999</td>\n",
       "      <td>0.466983</td>\n",
       "      <td>walking</td>\n",
       "      <td>0.024904</td>\n",
       "    </tr>\n",
       "    <tr>\n",
       "      <th>7</th>\n",
       "      <td>A01</td>\n",
       "      <td>010-000-024-033</td>\n",
       "      <td>633790226053442677</td>\n",
       "      <td>2009-05-27 14:03:25.343</td>\n",
       "      <td>3.958496</td>\n",
       "      <td>1.703563</td>\n",
       "      <td>0.511041</td>\n",
       "      <td>walking</td>\n",
       "      <td>-0.129339</td>\n",
       "    </tr>\n",
       "    <tr>\n",
       "      <th>9</th>\n",
       "      <td>A01</td>\n",
       "      <td>010-000-024-033</td>\n",
       "      <td>633790226054523854</td>\n",
       "      <td>2009-05-27 14:03:25.453</td>\n",
       "      <td>4.016991</td>\n",
       "      <td>1.734065</td>\n",
       "      <td>0.193167</td>\n",
       "      <td>walking</td>\n",
       "      <td>0.058495</td>\n",
       "    </tr>\n",
       "    <tr>\n",
       "      <th>13</th>\n",
       "      <td>A01</td>\n",
       "      <td>010-000-024-033</td>\n",
       "      <td>633790226055605037</td>\n",
       "      <td>2009-05-27 14:03:25.560</td>\n",
       "      <td>3.748375</td>\n",
       "      <td>2.073422</td>\n",
       "      <td>0.254482</td>\n",
       "      <td>walking</td>\n",
       "      <td>-0.268616</td>\n",
       "    </tr>\n",
       "  </tbody>\n",
       "</table>\n",
       "</div>"
      ],
      "text/plain": [
       "   name              tag           timestamp                    date  \\\n",
       "0   A01  010-000-024-033  633790226051280329 2009-05-27 14:03:25.127   \n",
       "3   A01  010-000-024-033  633790226052361498 2009-05-27 14:03:25.237   \n",
       "7   A01  010-000-024-033  633790226053442677 2009-05-27 14:03:25.343   \n",
       "9   A01  010-000-024-033  633790226054523854 2009-05-27 14:03:25.453   \n",
       "13  A01  010-000-024-033  633790226055605037 2009-05-27 14:03:25.560   \n",
       "\n",
       "           x         y         z activity        dx  \n",
       "0   4.062931  1.892434  0.507425  walking       NaN  \n",
       "3   4.087835  1.879999  0.466983  walking  0.024904  \n",
       "7   3.958496  1.703563  0.511041  walking -0.129339  \n",
       "9   4.016991  1.734065  0.193167  walking  0.058495  \n",
       "13  3.748375  2.073422  0.254482  walking -0.268616  "
      ]
     },
     "execution_count": 12,
     "metadata": {},
     "output_type": "execute_result"
    }
   ],
   "source": [
    "a01_t.head()"
   ]
  },
  {
   "cell_type": "code",
   "execution_count": 13,
   "metadata": {
    "collapsed": true
   },
   "outputs": [],
   "source": [
    "time_delta = a01_t['date'].diff(1)"
   ]
  },
  {
   "cell_type": "code",
   "execution_count": 14,
   "metadata": {
    "collapsed": false
   },
   "outputs": [
    {
     "data": {
      "text/html": [
       "<div>\n",
       "<table border=\"1\" class=\"dataframe\">\n",
       "  <thead>\n",
       "    <tr style=\"text-align: right;\">\n",
       "      <th></th>\n",
       "      <th>name</th>\n",
       "      <th>tag</th>\n",
       "      <th>timestamp</th>\n",
       "      <th>date</th>\n",
       "      <th>x</th>\n",
       "      <th>y</th>\n",
       "      <th>z</th>\n",
       "      <th>activity</th>\n",
       "      <th>dx</th>\n",
       "    </tr>\n",
       "  </thead>\n",
       "  <tbody>\n",
       "    <tr>\n",
       "      <th>0</th>\n",
       "      <td>A01</td>\n",
       "      <td>010-000-024-033</td>\n",
       "      <td>633790226051280329</td>\n",
       "      <td>2009-05-27 14:03:25.127</td>\n",
       "      <td>4.062931</td>\n",
       "      <td>1.892434</td>\n",
       "      <td>0.507425</td>\n",
       "      <td>walking</td>\n",
       "      <td>NaN</td>\n",
       "    </tr>\n",
       "    <tr>\n",
       "      <th>3</th>\n",
       "      <td>A01</td>\n",
       "      <td>010-000-024-033</td>\n",
       "      <td>633790226052361498</td>\n",
       "      <td>2009-05-27 14:03:25.237</td>\n",
       "      <td>4.087835</td>\n",
       "      <td>1.879999</td>\n",
       "      <td>0.466983</td>\n",
       "      <td>walking</td>\n",
       "      <td>0.024904</td>\n",
       "    </tr>\n",
       "    <tr>\n",
       "      <th>7</th>\n",
       "      <td>A01</td>\n",
       "      <td>010-000-024-033</td>\n",
       "      <td>633790226053442677</td>\n",
       "      <td>2009-05-27 14:03:25.343</td>\n",
       "      <td>3.958496</td>\n",
       "      <td>1.703563</td>\n",
       "      <td>0.511041</td>\n",
       "      <td>walking</td>\n",
       "      <td>-0.129339</td>\n",
       "    </tr>\n",
       "    <tr>\n",
       "      <th>9</th>\n",
       "      <td>A01</td>\n",
       "      <td>010-000-024-033</td>\n",
       "      <td>633790226054523854</td>\n",
       "      <td>2009-05-27 14:03:25.453</td>\n",
       "      <td>4.016991</td>\n",
       "      <td>1.734065</td>\n",
       "      <td>0.193167</td>\n",
       "      <td>walking</td>\n",
       "      <td>0.058495</td>\n",
       "    </tr>\n",
       "    <tr>\n",
       "      <th>13</th>\n",
       "      <td>A01</td>\n",
       "      <td>010-000-024-033</td>\n",
       "      <td>633790226055605037</td>\n",
       "      <td>2009-05-27 14:03:25.560</td>\n",
       "      <td>3.748375</td>\n",
       "      <td>2.073422</td>\n",
       "      <td>0.254482</td>\n",
       "      <td>walking</td>\n",
       "      <td>-0.268616</td>\n",
       "    </tr>\n",
       "  </tbody>\n",
       "</table>\n",
       "</div>"
      ],
      "text/plain": [
       "   name              tag           timestamp                    date  \\\n",
       "0   A01  010-000-024-033  633790226051280329 2009-05-27 14:03:25.127   \n",
       "3   A01  010-000-024-033  633790226052361498 2009-05-27 14:03:25.237   \n",
       "7   A01  010-000-024-033  633790226053442677 2009-05-27 14:03:25.343   \n",
       "9   A01  010-000-024-033  633790226054523854 2009-05-27 14:03:25.453   \n",
       "13  A01  010-000-024-033  633790226055605037 2009-05-27 14:03:25.560   \n",
       "\n",
       "           x         y         z activity        dx  \n",
       "0   4.062931  1.892434  0.507425  walking       NaN  \n",
       "3   4.087835  1.879999  0.466983  walking  0.024904  \n",
       "7   3.958496  1.703563  0.511041  walking -0.129339  \n",
       "9   4.016991  1.734065  0.193167  walking  0.058495  \n",
       "13  3.748375  2.073422  0.254482  walking -0.268616  "
      ]
     },
     "execution_count": 14,
     "metadata": {},
     "output_type": "execute_result"
    }
   ],
   "source": [
    "a01_t.head()"
   ]
  },
  {
   "cell_type": "code",
   "execution_count": 15,
   "metadata": {
    "collapsed": false
   },
   "outputs": [
    {
     "data": {
      "text/plain": [
       "3       0.022640\n",
       "7      -0.122018\n",
       "9       0.053177\n",
       "13     -0.251043\n",
       "15      0.065927\n",
       "19      0.204311\n",
       "21     -0.008922\n",
       "24      0.002771\n",
       "27     -0.203635\n",
       "30      0.191209\n",
       "33     -0.024687\n",
       "37     -0.186140\n",
       "40      0.227731\n",
       "44     -0.013200\n",
       "47     -0.199849\n",
       "50     -0.012019\n",
       "53      0.151588\n",
       "57      0.138696\n",
       "60     -0.084903\n",
       "66     -0.020413\n",
       "70     -0.045245\n",
       "73      0.044888\n",
       "77     -0.067450\n",
       "80      0.075164\n",
       "84     -0.051436\n",
       "87      0.050727\n",
       "91      0.014518\n",
       "94     -0.032484\n",
       "98      0.069898\n",
       "101    -0.091208\n",
       "          ...   \n",
       "5732    0.023222\n",
       "5735    0.080640\n",
       "5739   -0.012530\n",
       "5742    0.204929\n",
       "5745   -0.017343\n",
       "5748    0.118711\n",
       "5752   -0.041136\n",
       "5753   -0.052848\n",
       "5756    0.009911\n",
       "5759    0.043491\n",
       "5763   -0.092891\n",
       "5765    0.022627\n",
       "5769    0.178780\n",
       "5772   -0.208443\n",
       "5776   -0.029153\n",
       "5779    0.077400\n",
       "5782    0.057867\n",
       "5785    0.118575\n",
       "5789   -0.281602\n",
       "5792    0.046155\n",
       "5796   -0.057420\n",
       "5799    0.189363\n",
       "5803    0.363637\n",
       "5806    0.203655\n",
       "5810    0.128523\n",
       "5813    0.085350\n",
       "5817   -0.208473\n",
       "5820    0.039520\n",
       "5824    0.059244\n",
       "5827    0.020489\n",
       "dtype: float64"
      ]
     },
     "execution_count": 15,
     "metadata": {},
     "output_type": "execute_result"
    }
   ],
   "source": [
    "(100000 * a01_t['dx'][1:]) / time_delta[1:].dt.microseconds"
   ]
  },
  {
   "cell_type": "code",
   "execution_count": 16,
   "metadata": {
    "collapsed": false
   },
   "outputs": [],
   "source": [
    "unique_deltas_in_seconds = set()\n",
    "for name in names:\n",
    "    temp_df1 = df[df['name'] == name].copy()\n",
    "    for tag in tags:\n",
    "        time_delta = temp_df1[temp_df1['tag'] == tag]['date'].diff(1)\n",
    "        for i in range(1, len(time_delta)):\n",
    "            unique_deltas_in_seconds.add((time_delta.iloc[i].seconds, name))"
   ]
  },
  {
   "cell_type": "code",
   "execution_count": 17,
   "metadata": {
    "collapsed": false
   },
   "outputs": [
    {
     "data": {
      "text/plain": [
       "{(0, 'A01'),\n",
       " (0, 'A02'),\n",
       " (0, 'A03'),\n",
       " (0, 'A04'),\n",
       " (0, 'A05'),\n",
       " (0, 'B01'),\n",
       " (0, 'B02'),\n",
       " (0, 'B03'),\n",
       " (0, 'B04'),\n",
       " (0, 'B05'),\n",
       " (0, 'C01'),\n",
       " (0, 'C02'),\n",
       " (0, 'C03'),\n",
       " (0, 'C04'),\n",
       " (0, 'C05'),\n",
       " (0, 'D01'),\n",
       " (0, 'D02'),\n",
       " (0, 'D03'),\n",
       " (0, 'D04'),\n",
       " (0, 'D05'),\n",
       " (0, 'E01'),\n",
       " (0, 'E02'),\n",
       " (0, 'E03'),\n",
       " (0, 'E04'),\n",
       " (0, 'E05'),\n",
       " (1, 'A02'),\n",
       " (1, 'A03'),\n",
       " (1, 'A05'),\n",
       " (1, 'B02'),\n",
       " (1, 'B03'),\n",
       " (1, 'B04'),\n",
       " (1, 'B05'),\n",
       " (1, 'C02'),\n",
       " (1, 'C03'),\n",
       " (1, 'C04'),\n",
       " (1, 'C05'),\n",
       " (1, 'D01'),\n",
       " (1, 'D03'),\n",
       " (1, 'D04'),\n",
       " (1, 'D05'),\n",
       " (1, 'E01'),\n",
       " (1, 'E02'),\n",
       " (1, 'E03'),\n",
       " (1, 'E04'),\n",
       " (1, 'E05'),\n",
       " (2, 'A05'),\n",
       " (2, 'B04'),\n",
       " (2, 'D04'),\n",
       " (2, 'E04'),\n",
       " (3, 'B03'),\n",
       " (3, 'C01'),\n",
       " (3, 'D04'),\n",
       " (4, 'B03')}"
      ]
     },
     "execution_count": 17,
     "metadata": {},
     "output_type": "execute_result"
    }
   ],
   "source": [
    "unique_deltas_in_seconds"
   ]
  },
  {
   "cell_type": "code",
   "execution_count": 18,
   "metadata": {
    "collapsed": false
   },
   "outputs": [
    {
     "data": {
      "image/png": "[encoded data removed]",
      "text/plain": [
       "<matplotlib.figure.Figure at 0x112d7c710>"
      ]
     },
     "metadata": {},
     "output_type": "display_data"
    }
   ],
   "source": [
    "plt.figure(figsize=(15, 12))\n",
    "plt.plot(a01_t['date'], a01_t['x'])\n",
    "plt.show()"
   ]
  },
  {
   "cell_type": "markdown",
   "metadata": {},
   "source": [
    "## Calculate the change in X, Y, Z coordinates for each person"
   ]
  },
  {
   "cell_type": "code",
   "execution_count": 19,
   "metadata": {
    "collapsed": false
   },
   "outputs": [],
   "source": [
    "data_frames = []\n",
    "for name in names:\n",
    "    temp_df1 = df[df['name'] == name].copy()\n",
    "    for tag in tags:\n",
    "        temp_df2 = temp_df1[temp_df1['tag'] == tag].copy()\n",
    "        time_delta = temp_df2['date'].diff(1)\n",
    "        temp_df2['dx'] = (100000 * temp_df2['x'].diff(1)[1:]) / time_delta[1:].dt.microseconds\n",
    "        temp_df2['dy'] = (100000 * temp_df2['y'].diff(1)[1:]) / time_delta[1:].dt.microseconds\n",
    "        temp_df2['dz'] = (100000 * temp_df2['z'].diff(1)[1:]) / time_delta[1:].dt.microseconds\n",
    "        data_frames.append(temp_df2)"
   ]
  },
  {
   "cell_type": "code",
   "execution_count": 20,
   "metadata": {
    "collapsed": true
   },
   "outputs": [],
   "source": [
    "# Concatenate the all the data_frames and drop NA's\n",
    "new_df = pd.concat(data_frames)\n",
    "new_df = new_df.dropna()"
   ]
  },
  {
   "cell_type": "code",
   "execution_count": 21,
   "metadata": {
    "collapsed": false
   },
   "outputs": [
    {
     "data": {
      "text/plain": [
       "(164760, 11)"
      ]
     },
     "execution_count": 21,
     "metadata": {},
     "output_type": "execute_result"
    }
   ],
   "source": [
    "new_df.shape"
   ]
  },
  {
   "cell_type": "code",
   "execution_count": 22,
   "metadata": {
    "collapsed": false
   },
   "outputs": [],
   "source": [
    "tags = pd.get_dummies(df['tag'], prefix='tag')\n",
    "names = pd.get_dummies(df['name'], prefix='name')"
   ]
  },
  {
   "cell_type": "code",
   "execution_count": 23,
   "metadata": {
    "collapsed": false
   },
   "outputs": [],
   "source": [
    "new_df = new_df.join([tags, names])"
   ]
  },
  {
   "cell_type": "code",
   "execution_count": 24,
   "metadata": {
    "collapsed": false
   },
   "outputs": [
    {
     "data": {
      "text/plain": [
       "(164760, 40)"
      ]
     },
     "execution_count": 24,
     "metadata": {},
     "output_type": "execute_result"
    }
   ],
   "source": [
    "new_df.shape"
   ]
  },
  {
   "cell_type": "code",
   "execution_count": 25,
   "metadata": {
    "collapsed": false
   },
   "outputs": [
    {
     "data": {
      "text/html": [
       "<div>\n",
       "<table border=\"1\" class=\"dataframe\">\n",
       "  <thead>\n",
       "    <tr style=\"text-align: right;\">\n",
       "      <th></th>\n",
       "      <th>name</th>\n",
       "      <th>tag</th>\n",
       "      <th>timestamp</th>\n",
       "      <th>date</th>\n",
       "      <th>x</th>\n",
       "      <th>y</th>\n",
       "      <th>z</th>\n",
       "      <th>activity</th>\n",
       "      <th>dx</th>\n",
       "      <th>dy</th>\n",
       "      <th>...</th>\n",
       "      <th>name_D01</th>\n",
       "      <th>name_D02</th>\n",
       "      <th>name_D03</th>\n",
       "      <th>name_D04</th>\n",
       "      <th>name_D05</th>\n",
       "      <th>name_E01</th>\n",
       "      <th>name_E02</th>\n",
       "      <th>name_E03</th>\n",
       "      <th>name_E04</th>\n",
       "      <th>name_E05</th>\n",
       "    </tr>\n",
       "  </thead>\n",
       "  <tbody>\n",
       "    <tr>\n",
       "      <th>3</th>\n",
       "      <td>A01</td>\n",
       "      <td>010-000-024-033</td>\n",
       "      <td>633790226052361498</td>\n",
       "      <td>2009-05-27 14:03:25.237</td>\n",
       "      <td>4.087835</td>\n",
       "      <td>1.879999</td>\n",
       "      <td>0.466983</td>\n",
       "      <td>walking</td>\n",
       "      <td>0.022640</td>\n",
       "      <td>-0.011305</td>\n",
       "      <td>...</td>\n",
       "      <td>0</td>\n",
       "      <td>0</td>\n",
       "      <td>0</td>\n",
       "      <td>0</td>\n",
       "      <td>0</td>\n",
       "      <td>0</td>\n",
       "      <td>0</td>\n",
       "      <td>0</td>\n",
       "      <td>0</td>\n",
       "      <td>0</td>\n",
       "    </tr>\n",
       "    <tr>\n",
       "      <th>7</th>\n",
       "      <td>A01</td>\n",
       "      <td>010-000-024-033</td>\n",
       "      <td>633790226053442677</td>\n",
       "      <td>2009-05-27 14:03:25.343</td>\n",
       "      <td>3.958496</td>\n",
       "      <td>1.703563</td>\n",
       "      <td>0.511041</td>\n",
       "      <td>walking</td>\n",
       "      <td>-0.122018</td>\n",
       "      <td>-0.166449</td>\n",
       "      <td>...</td>\n",
       "      <td>0</td>\n",
       "      <td>0</td>\n",
       "      <td>0</td>\n",
       "      <td>0</td>\n",
       "      <td>0</td>\n",
       "      <td>0</td>\n",
       "      <td>0</td>\n",
       "      <td>0</td>\n",
       "      <td>0</td>\n",
       "      <td>0</td>\n",
       "    </tr>\n",
       "    <tr>\n",
       "      <th>9</th>\n",
       "      <td>A01</td>\n",
       "      <td>010-000-024-033</td>\n",
       "      <td>633790226054523854</td>\n",
       "      <td>2009-05-27 14:03:25.453</td>\n",
       "      <td>4.016991</td>\n",
       "      <td>1.734065</td>\n",
       "      <td>0.193167</td>\n",
       "      <td>walking</td>\n",
       "      <td>0.053177</td>\n",
       "      <td>0.027729</td>\n",
       "      <td>...</td>\n",
       "      <td>0</td>\n",
       "      <td>0</td>\n",
       "      <td>0</td>\n",
       "      <td>0</td>\n",
       "      <td>0</td>\n",
       "      <td>0</td>\n",
       "      <td>0</td>\n",
       "      <td>0</td>\n",
       "      <td>0</td>\n",
       "      <td>0</td>\n",
       "    </tr>\n",
       "    <tr>\n",
       "      <th>13</th>\n",
       "      <td>A01</td>\n",
       "      <td>010-000-024-033</td>\n",
       "      <td>633790226055605037</td>\n",
       "      <td>2009-05-27 14:03:25.560</td>\n",
       "      <td>3.748375</td>\n",
       "      <td>2.073422</td>\n",
       "      <td>0.254482</td>\n",
       "      <td>walking</td>\n",
       "      <td>-0.251043</td>\n",
       "      <td>0.317157</td>\n",
       "      <td>...</td>\n",
       "      <td>0</td>\n",
       "      <td>0</td>\n",
       "      <td>0</td>\n",
       "      <td>0</td>\n",
       "      <td>0</td>\n",
       "      <td>0</td>\n",
       "      <td>0</td>\n",
       "      <td>0</td>\n",
       "      <td>0</td>\n",
       "      <td>0</td>\n",
       "    </tr>\n",
       "    <tr>\n",
       "      <th>15</th>\n",
       "      <td>A01</td>\n",
       "      <td>010-000-024-033</td>\n",
       "      <td>633790226056686205</td>\n",
       "      <td>2009-05-27 14:03:25.670</td>\n",
       "      <td>3.820894</td>\n",
       "      <td>2.049378</td>\n",
       "      <td>0.055377</td>\n",
       "      <td>walking</td>\n",
       "      <td>0.065927</td>\n",
       "      <td>-0.021859</td>\n",
       "      <td>...</td>\n",
       "      <td>0</td>\n",
       "      <td>0</td>\n",
       "      <td>0</td>\n",
       "      <td>0</td>\n",
       "      <td>0</td>\n",
       "      <td>0</td>\n",
       "      <td>0</td>\n",
       "      <td>0</td>\n",
       "      <td>0</td>\n",
       "      <td>0</td>\n",
       "    </tr>\n",
       "  </tbody>\n",
       "</table>\n",
       "<p>5 rows × 40 columns</p>\n",
       "</div>"
      ],
      "text/plain": [
       "   name              tag           timestamp                    date  \\\n",
       "3   A01  010-000-024-033  633790226052361498 2009-05-27 14:03:25.237   \n",
       "7   A01  010-000-024-033  633790226053442677 2009-05-27 14:03:25.343   \n",
       "9   A01  010-000-024-033  633790226054523854 2009-05-27 14:03:25.453   \n",
       "13  A01  010-000-024-033  633790226055605037 2009-05-27 14:03:25.560   \n",
       "15  A01  010-000-024-033  633790226056686205 2009-05-27 14:03:25.670   \n",
       "\n",
       "           x         y         z activity        dx        dy    ...     \\\n",
       "3   4.087835  1.879999  0.466983  walking  0.022640 -0.011305    ...      \n",
       "7   3.958496  1.703563  0.511041  walking -0.122018 -0.166449    ...      \n",
       "9   4.016991  1.734065  0.193167  walking  0.053177  0.027729    ...      \n",
       "13  3.748375  2.073422  0.254482  walking -0.251043  0.317157    ...      \n",
       "15  3.820894  2.049378  0.055377  walking  0.065927 -0.021859    ...      \n",
       "\n",
       "    name_D01  name_D02  name_D03  name_D04  name_D05  name_E01  name_E02  \\\n",
       "3          0         0         0         0         0         0         0   \n",
       "7          0         0         0         0         0         0         0   \n",
       "9          0         0         0         0         0         0         0   \n",
       "13         0         0         0         0         0         0         0   \n",
       "15         0         0         0         0         0         0         0   \n",
       "\n",
       "    name_E03  name_E04  name_E05  \n",
       "3          0         0         0  \n",
       "7          0         0         0  \n",
       "9          0         0         0  \n",
       "13         0         0         0  \n",
       "15         0         0         0  \n",
       "\n",
       "[5 rows x 40 columns]"
      ]
     },
     "execution_count": 25,
     "metadata": {},
     "output_type": "execute_result"
    }
   ],
   "source": [
    "new_df.head()"
   ]
  },
  {
   "cell_type": "code",
   "execution_count": 26,
   "metadata": {
    "collapsed": false
   },
   "outputs": [
    {
     "data": {
      "text/plain": [
       "(164759, 40)"
      ]
     },
     "execution_count": 26,
     "metadata": {},
     "output_type": "execute_result"
    }
   ],
   "source": [
    "# Rremove values set to inf and -inf (only one value)\n",
    "new_df = new_df.replace([np.inf, -np.inf], np.nan).dropna()\n",
    "new_df.shape"
   ]
  },
  {
   "cell_type": "code",
   "execution_count": 27,
   "metadata": {
    "collapsed": false
   },
   "outputs": [],
   "source": [
    "std_scale = StandardScaler().fit_transform(new_df[['x', 'y', 'z', 'dx', 'dy', 'dz']])"
   ]
  },
  {
   "cell_type": "code",
   "execution_count": 28,
   "metadata": {
    "collapsed": false
   },
   "outputs": [],
   "source": [
    "new_df[['x', 'y', 'z', 'dx', 'dy', 'dz']] = std_scale"
   ]
  },
  {
   "cell_type": "code",
   "execution_count": 29,
   "metadata": {
    "collapsed": false
   },
   "outputs": [
    {
     "data": {
      "text/html": [
       "<div>\n",
       "<table border=\"1\" class=\"dataframe\">\n",
       "  <thead>\n",
       "    <tr style=\"text-align: right;\">\n",
       "      <th></th>\n",
       "      <th>name</th>\n",
       "      <th>tag</th>\n",
       "      <th>timestamp</th>\n",
       "      <th>date</th>\n",
       "      <th>x</th>\n",
       "      <th>y</th>\n",
       "      <th>z</th>\n",
       "      <th>activity</th>\n",
       "      <th>dx</th>\n",
       "      <th>dy</th>\n",
       "      <th>...</th>\n",
       "      <th>name_D01</th>\n",
       "      <th>name_D02</th>\n",
       "      <th>name_D03</th>\n",
       "      <th>name_D04</th>\n",
       "      <th>name_D05</th>\n",
       "      <th>name_E01</th>\n",
       "      <th>name_E02</th>\n",
       "      <th>name_E03</th>\n",
       "      <th>name_E04</th>\n",
       "      <th>name_E05</th>\n",
       "    </tr>\n",
       "  </thead>\n",
       "  <tbody>\n",
       "    <tr>\n",
       "      <th>3</th>\n",
       "      <td>A01</td>\n",
       "      <td>010-000-024-033</td>\n",
       "      <td>633790226052361498</td>\n",
       "      <td>2009-05-27 14:03:25.237</td>\n",
       "      <td>1.394024</td>\n",
       "      <td>0.386435</td>\n",
       "      <td>0.129029</td>\n",
       "      <td>walking</td>\n",
       "      <td>0.099538</td>\n",
       "      <td>-0.064324</td>\n",
       "      <td>...</td>\n",
       "      <td>0</td>\n",
       "      <td>0</td>\n",
       "      <td>0</td>\n",
       "      <td>0</td>\n",
       "      <td>0</td>\n",
       "      <td>0</td>\n",
       "      <td>0</td>\n",
       "      <td>0</td>\n",
       "      <td>0</td>\n",
       "      <td>0</td>\n",
       "    </tr>\n",
       "    <tr>\n",
       "      <th>7</th>\n",
       "      <td>A01</td>\n",
       "      <td>010-000-024-033</td>\n",
       "      <td>633790226053442677</td>\n",
       "      <td>2009-05-27 14:03:25.343</td>\n",
       "      <td>1.252782</td>\n",
       "      <td>0.014045</td>\n",
       "      <td>0.245298</td>\n",
       "      <td>walking</td>\n",
       "      <td>-0.537727</td>\n",
       "      <td>-0.934796</td>\n",
       "      <td>...</td>\n",
       "      <td>0</td>\n",
       "      <td>0</td>\n",
       "      <td>0</td>\n",
       "      <td>0</td>\n",
       "      <td>0</td>\n",
       "      <td>0</td>\n",
       "      <td>0</td>\n",
       "      <td>0</td>\n",
       "      <td>0</td>\n",
       "      <td>0</td>\n",
       "    </tr>\n",
       "    <tr>\n",
       "      <th>9</th>\n",
       "      <td>A01</td>\n",
       "      <td>010-000-024-033</td>\n",
       "      <td>633790226054523854</td>\n",
       "      <td>2009-05-27 14:03:25.453</td>\n",
       "      <td>1.316660</td>\n",
       "      <td>0.078424</td>\n",
       "      <td>-0.593577</td>\n",
       "      <td>walking</td>\n",
       "      <td>0.234061</td>\n",
       "      <td>0.154687</td>\n",
       "      <td>...</td>\n",
       "      <td>0</td>\n",
       "      <td>0</td>\n",
       "      <td>0</td>\n",
       "      <td>0</td>\n",
       "      <td>0</td>\n",
       "      <td>0</td>\n",
       "      <td>0</td>\n",
       "      <td>0</td>\n",
       "      <td>0</td>\n",
       "      <td>0</td>\n",
       "    </tr>\n",
       "    <tr>\n",
       "      <th>13</th>\n",
       "      <td>A01</td>\n",
       "      <td>010-000-024-033</td>\n",
       "      <td>633790226055605037</td>\n",
       "      <td>2009-05-27 14:03:25.560</td>\n",
       "      <td>1.023324</td>\n",
       "      <td>0.794681</td>\n",
       "      <td>-0.431766</td>\n",
       "      <td>walking</td>\n",
       "      <td>-1.106121</td>\n",
       "      <td>1.778590</td>\n",
       "      <td>...</td>\n",
       "      <td>0</td>\n",
       "      <td>0</td>\n",
       "      <td>0</td>\n",
       "      <td>0</td>\n",
       "      <td>0</td>\n",
       "      <td>0</td>\n",
       "      <td>0</td>\n",
       "      <td>0</td>\n",
       "      <td>0</td>\n",
       "      <td>0</td>\n",
       "    </tr>\n",
       "    <tr>\n",
       "      <th>15</th>\n",
       "      <td>A01</td>\n",
       "      <td>010-000-024-033</td>\n",
       "      <td>633790226056686205</td>\n",
       "      <td>2009-05-27 14:03:25.670</td>\n",
       "      <td>1.102517</td>\n",
       "      <td>0.743932</td>\n",
       "      <td>-0.957206</td>\n",
       "      <td>walking</td>\n",
       "      <td>0.290228</td>\n",
       "      <td>-0.123537</td>\n",
       "      <td>...</td>\n",
       "      <td>0</td>\n",
       "      <td>0</td>\n",
       "      <td>0</td>\n",
       "      <td>0</td>\n",
       "      <td>0</td>\n",
       "      <td>0</td>\n",
       "      <td>0</td>\n",
       "      <td>0</td>\n",
       "      <td>0</td>\n",
       "      <td>0</td>\n",
       "    </tr>\n",
       "  </tbody>\n",
       "</table>\n",
       "<p>5 rows × 40 columns</p>\n",
       "</div>"
      ],
      "text/plain": [
       "   name              tag           timestamp                    date  \\\n",
       "3   A01  010-000-024-033  633790226052361498 2009-05-27 14:03:25.237   \n",
       "7   A01  010-000-024-033  633790226053442677 2009-05-27 14:03:25.343   \n",
       "9   A01  010-000-024-033  633790226054523854 2009-05-27 14:03:25.453   \n",
       "13  A01  010-000-024-033  633790226055605037 2009-05-27 14:03:25.560   \n",
       "15  A01  010-000-024-033  633790226056686205 2009-05-27 14:03:25.670   \n",
       "\n",
       "           x         y         z activity        dx        dy    ...     \\\n",
       "3   1.394024  0.386435  0.129029  walking  0.099538 -0.064324    ...      \n",
       "7   1.252782  0.014045  0.245298  walking -0.537727 -0.934796    ...      \n",
       "9   1.316660  0.078424 -0.593577  walking  0.234061  0.154687    ...      \n",
       "13  1.023324  0.794681 -0.431766  walking -1.106121  1.778590    ...      \n",
       "15  1.102517  0.743932 -0.957206  walking  0.290228 -0.123537    ...      \n",
       "\n",
       "    name_D01  name_D02  name_D03  name_D04  name_D05  name_E01  name_E02  \\\n",
       "3          0         0         0         0         0         0         0   \n",
       "7          0         0         0         0         0         0         0   \n",
       "9          0         0         0         0         0         0         0   \n",
       "13         0         0         0         0         0         0         0   \n",
       "15         0         0         0         0         0         0         0   \n",
       "\n",
       "    name_E03  name_E04  name_E05  \n",
       "3          0         0         0  \n",
       "7          0         0         0  \n",
       "9          0         0         0  \n",
       "13         0         0         0  \n",
       "15         0         0         0  \n",
       "\n",
       "[5 rows x 40 columns]"
      ]
     },
     "execution_count": 29,
     "metadata": {},
     "output_type": "execute_result"
    }
   ],
   "source": [
    "new_df.head()"
   ]
  },
  {
   "cell_type": "markdown",
   "metadata": {},
   "source": [
    "## Some more exploratory analysis now that I added new features"
   ]
  },
  {
   "cell_type": "code",
   "execution_count": 30,
   "metadata": {
    "collapsed": false
   },
   "outputs": [
    {
     "data": {
      "text/html": [
       "<div>\n",
       "<table border=\"1\" class=\"dataframe\">\n",
       "  <thead>\n",
       "    <tr style=\"text-align: right;\">\n",
       "      <th></th>\n",
       "      <th>name</th>\n",
       "      <th>tag</th>\n",
       "      <th>timestamp</th>\n",
       "      <th>date</th>\n",
       "      <th>x</th>\n",
       "      <th>y</th>\n",
       "      <th>z</th>\n",
       "      <th>activity</th>\n",
       "      <th>dx</th>\n",
       "      <th>dy</th>\n",
       "      <th>...</th>\n",
       "      <th>name_D01</th>\n",
       "      <th>name_D02</th>\n",
       "      <th>name_D03</th>\n",
       "      <th>name_D04</th>\n",
       "      <th>name_D05</th>\n",
       "      <th>name_E01</th>\n",
       "      <th>name_E02</th>\n",
       "      <th>name_E03</th>\n",
       "      <th>name_E04</th>\n",
       "      <th>name_E05</th>\n",
       "    </tr>\n",
       "  </thead>\n",
       "  <tbody>\n",
       "    <tr>\n",
       "      <th>3</th>\n",
       "      <td>A01</td>\n",
       "      <td>010-000-024-033</td>\n",
       "      <td>633790226052361498</td>\n",
       "      <td>2009-05-27 14:03:25.237</td>\n",
       "      <td>1.394024</td>\n",
       "      <td>0.386435</td>\n",
       "      <td>0.129029</td>\n",
       "      <td>walking</td>\n",
       "      <td>0.099538</td>\n",
       "      <td>-0.064324</td>\n",
       "      <td>...</td>\n",
       "      <td>0</td>\n",
       "      <td>0</td>\n",
       "      <td>0</td>\n",
       "      <td>0</td>\n",
       "      <td>0</td>\n",
       "      <td>0</td>\n",
       "      <td>0</td>\n",
       "      <td>0</td>\n",
       "      <td>0</td>\n",
       "      <td>0</td>\n",
       "    </tr>\n",
       "    <tr>\n",
       "      <th>7</th>\n",
       "      <td>A01</td>\n",
       "      <td>010-000-024-033</td>\n",
       "      <td>633790226053442677</td>\n",
       "      <td>2009-05-27 14:03:25.343</td>\n",
       "      <td>1.252782</td>\n",
       "      <td>0.014045</td>\n",
       "      <td>0.245298</td>\n",
       "      <td>walking</td>\n",
       "      <td>-0.537727</td>\n",
       "      <td>-0.934796</td>\n",
       "      <td>...</td>\n",
       "      <td>0</td>\n",
       "      <td>0</td>\n",
       "      <td>0</td>\n",
       "      <td>0</td>\n",
       "      <td>0</td>\n",
       "      <td>0</td>\n",
       "      <td>0</td>\n",
       "      <td>0</td>\n",
       "      <td>0</td>\n",
       "      <td>0</td>\n",
       "    </tr>\n",
       "    <tr>\n",
       "      <th>9</th>\n",
       "      <td>A01</td>\n",
       "      <td>010-000-024-033</td>\n",
       "      <td>633790226054523854</td>\n",
       "      <td>2009-05-27 14:03:25.453</td>\n",
       "      <td>1.316660</td>\n",
       "      <td>0.078424</td>\n",
       "      <td>-0.593577</td>\n",
       "      <td>walking</td>\n",
       "      <td>0.234061</td>\n",
       "      <td>0.154687</td>\n",
       "      <td>...</td>\n",
       "      <td>0</td>\n",
       "      <td>0</td>\n",
       "      <td>0</td>\n",
       "      <td>0</td>\n",
       "      <td>0</td>\n",
       "      <td>0</td>\n",
       "      <td>0</td>\n",
       "      <td>0</td>\n",
       "      <td>0</td>\n",
       "      <td>0</td>\n",
       "    </tr>\n",
       "    <tr>\n",
       "      <th>13</th>\n",
       "      <td>A01</td>\n",
       "      <td>010-000-024-033</td>\n",
       "      <td>633790226055605037</td>\n",
       "      <td>2009-05-27 14:03:25.560</td>\n",
       "      <td>1.023324</td>\n",
       "      <td>0.794681</td>\n",
       "      <td>-0.431766</td>\n",
       "      <td>walking</td>\n",
       "      <td>-1.106121</td>\n",
       "      <td>1.778590</td>\n",
       "      <td>...</td>\n",
       "      <td>0</td>\n",
       "      <td>0</td>\n",
       "      <td>0</td>\n",
       "      <td>0</td>\n",
       "      <td>0</td>\n",
       "      <td>0</td>\n",
       "      <td>0</td>\n",
       "      <td>0</td>\n",
       "      <td>0</td>\n",
       "      <td>0</td>\n",
       "    </tr>\n",
       "    <tr>\n",
       "      <th>15</th>\n",
       "      <td>A01</td>\n",
       "      <td>010-000-024-033</td>\n",
       "      <td>633790226056686205</td>\n",
       "      <td>2009-05-27 14:03:25.670</td>\n",
       "      <td>1.102517</td>\n",
       "      <td>0.743932</td>\n",
       "      <td>-0.957206</td>\n",
       "      <td>walking</td>\n",
       "      <td>0.290228</td>\n",
       "      <td>-0.123537</td>\n",
       "      <td>...</td>\n",
       "      <td>0</td>\n",
       "      <td>0</td>\n",
       "      <td>0</td>\n",
       "      <td>0</td>\n",
       "      <td>0</td>\n",
       "      <td>0</td>\n",
       "      <td>0</td>\n",
       "      <td>0</td>\n",
       "      <td>0</td>\n",
       "      <td>0</td>\n",
       "    </tr>\n",
       "  </tbody>\n",
       "</table>\n",
       "<p>5 rows × 40 columns</p>\n",
       "</div>"
      ],
      "text/plain": [
       "   name              tag           timestamp                    date  \\\n",
       "3   A01  010-000-024-033  633790226052361498 2009-05-27 14:03:25.237   \n",
       "7   A01  010-000-024-033  633790226053442677 2009-05-27 14:03:25.343   \n",
       "9   A01  010-000-024-033  633790226054523854 2009-05-27 14:03:25.453   \n",
       "13  A01  010-000-024-033  633790226055605037 2009-05-27 14:03:25.560   \n",
       "15  A01  010-000-024-033  633790226056686205 2009-05-27 14:03:25.670   \n",
       "\n",
       "           x         y         z activity        dx        dy    ...     \\\n",
       "3   1.394024  0.386435  0.129029  walking  0.099538 -0.064324    ...      \n",
       "7   1.252782  0.014045  0.245298  walking -0.537727 -0.934796    ...      \n",
       "9   1.316660  0.078424 -0.593577  walking  0.234061  0.154687    ...      \n",
       "13  1.023324  0.794681 -0.431766  walking -1.106121  1.778590    ...      \n",
       "15  1.102517  0.743932 -0.957206  walking  0.290228 -0.123537    ...      \n",
       "\n",
       "    name_D01  name_D02  name_D03  name_D04  name_D05  name_E01  name_E02  \\\n",
       "3          0         0         0         0         0         0         0   \n",
       "7          0         0         0         0         0         0         0   \n",
       "9          0         0         0         0         0         0         0   \n",
       "13         0         0         0         0         0         0         0   \n",
       "15         0         0         0         0         0         0         0   \n",
       "\n",
       "    name_E03  name_E04  name_E05  \n",
       "3          0         0         0  \n",
       "7          0         0         0  \n",
       "9          0         0         0  \n",
       "13         0         0         0  \n",
       "15         0         0         0  \n",
       "\n",
       "[5 rows x 40 columns]"
      ]
     },
     "execution_count": 30,
     "metadata": {},
     "output_type": "execute_result"
    }
   ],
   "source": [
    "a01 = new_df[new_df['name'] == 'A01']\n",
    "a01 = a01[a01['tag'] == '010-000-024-033']\n",
    "a01.head()"
   ]
  },
  {
   "cell_type": "code",
   "execution_count": 31,
   "metadata": {
    "collapsed": false
   },
   "outputs": [
    {
     "data": {
      "image/png": "[encoded data removed]",
      "text/plain": [
       "<matplotlib.figure.Figure at 0x112e5ca58>"
      ]
     },
     "metadata": {},
     "output_type": "display_data"
    }
   ],
   "source": [
    "plt.figure(figsize=(20, 12))\n",
    "plt.plot(a01['date'], a01['dx'])\n",
    "plt.show()"
   ]
  },
  {
   "cell_type": "markdown",
   "metadata": {},
   "source": [
    "## Drop Columns that will not be used in the classification"
   ]
  },
  {
   "cell_type": "code",
   "execution_count": 32,
   "metadata": {
    "collapsed": false
   },
   "outputs": [],
   "source": [
    "y = new_df['activity']\n",
    "categories = y.astype('category')\n",
    "y = categories.cat.codes"
   ]
  },
  {
   "cell_type": "code",
   "execution_count": 33,
   "metadata": {
    "collapsed": true
   },
   "outputs": [],
   "source": [
    "X = new_df.drop(['activity', 'date', 'timestamp', 'tag', 'name'], axis=1)"
   ]
  },
  {
   "cell_type": "code",
   "execution_count": 34,
   "metadata": {
    "collapsed": false
   },
   "outputs": [
    {
     "data": {
      "text/plain": [
       "Index(['x', 'y', 'z', 'dx', 'dy', 'dz', 'tag_010-000-024-033',\n",
       "       'tag_010-000-030-096', 'tag_020-000-032-221', 'tag_020-000-033-111',\n",
       "       'name_A01', 'name_A02', 'name_A03', 'name_A04', 'name_A05', 'name_B01',\n",
       "       'name_B02', 'name_B03', 'name_B04', 'name_B05', 'name_C01', 'name_C02',\n",
       "       'name_C03', 'name_C04', 'name_C05', 'name_D01', 'name_D02', 'name_D03',\n",
       "       'name_D04', 'name_D05', 'name_E01', 'name_E02', 'name_E03', 'name_E04',\n",
       "       'name_E05'],\n",
       "      dtype='object')"
      ]
     },
     "execution_count": 34,
     "metadata": {},
     "output_type": "execute_result"
    }
   ],
   "source": [
    "X.columns"
   ]
  },
  {
   "cell_type": "code",
   "execution_count": 35,
   "metadata": {
    "collapsed": true
   },
   "outputs": [],
   "source": [
    "# Split into train and test sets\n",
    "X_train, X_test, y_train, y_test = train_test_split(X, y)"
   ]
  },
  {
   "cell_type": "markdown",
   "metadata": {},
   "source": [
    "## Train Logistic Regression"
   ]
  },
  {
   "cell_type": "code",
   "execution_count": 36,
   "metadata": {
    "collapsed": false
   },
   "outputs": [],
   "source": [
    "clf = LogisticRegression()\n",
    "clf.fit(X_train, y_train)\n",
    "predictions = clf.predict(X_test)"
   ]
  },
  {
   "cell_type": "code",
   "execution_count": 37,
   "metadata": {
    "collapsed": false
   },
   "outputs": [
    {
     "data": {
      "text/plain": [
       "0.40660354454964798"
      ]
     },
     "execution_count": 37,
     "metadata": {},
     "output_type": "execute_result"
    }
   ],
   "source": [
    "clf.score(X_test, y_test)"
   ]
  },
  {
   "cell_type": "code",
   "execution_count": 38,
   "metadata": {
    "collapsed": false
   },
   "outputs": [
    {
     "name": "stdout",
     "output_type": "stream",
     "text": [
      "Confussion Matrix:\n",
      "[[    0   380     0     0   180     0    10     0     0     0   176]\n",
      " [    1 10961     0   233   926     0   206     0     0     0  1303]\n",
      " [    0  1082     0    19    14     0     0     0     0     0   390]\n",
      " [    0   851     0   215    43     0     0     0     0     0   163]\n",
      " [    0  3056     0    10  1354     0     3     0     0     0  2380]\n",
      " [    0   286     0     1    25     0     0     0     0     0   128]\n",
      " [    0  2176     0     0   348     0   308     0     0     0    75]\n",
      " [    0  3516     0    92   228     0    38     0     0     0   804]\n",
      " [    0   237     0     0    10     0     0     0     0     0   101]\n",
      " [    0   682     0     0    20     0     2     0     0     0    32]\n",
      " [    0  3753     0    92   364     0     6     0     0     0  3910]]\n"
     ]
    }
   ],
   "source": [
    "cm = confusion_matrix(y_test, predictions)\n",
    "print('Confussion Matrix:')\n",
    "print(cm)"
   ]
  },
  {
   "cell_type": "code",
   "execution_count": 51,
   "metadata": {
    "collapsed": false
   },
   "outputs": [
    {
     "data": {
      "text/plain": [
       "Index(['falling', 'lying', 'lying down', 'on all fours', 'sitting',\n",
       "       'sitting down', 'sitting on the ground', 'standing up from lying',\n",
       "       'standing up from sitting', 'standing up from sitting on the ground',\n",
       "       'walking'],\n",
       "      dtype='object')"
      ]
     },
     "execution_count": 51,
     "metadata": {},
     "output_type": "execute_result"
    }
   ],
   "source": [
    "categories.cat.categories"
   ]
  },
  {
   "cell_type": "code",
   "execution_count": 39,
   "metadata": {
    "collapsed": false
   },
   "outputs": [
    {
     "data": {
      "image/png": "[encoded data removed]",
      "text/plain": [
       "<matplotlib.figure.Figure at 0x112d7c9b0>"
      ]
     },
     "metadata": {},
     "output_type": "display_data"
    }
   ],
   "source": [
    "plt.figure(figsize=(20, 12))\n",
    "sns.heatmap(cm, annot=True, fmt='g')\n",
    "plt.show()"
   ]
  },
  {
   "cell_type": "markdown",
   "metadata": {},
   "source": [
    "## GaussianNB"
   ]
  },
  {
   "cell_type": "code",
   "execution_count": 40,
   "metadata": {
    "collapsed": false
   },
   "outputs": [
    {
     "data": {
      "text/plain": [
       "0.18293275066763778"
      ]
     },
     "execution_count": 40,
     "metadata": {},
     "output_type": "execute_result"
    }
   ],
   "source": [
    "clf = GaussianNB()\n",
    "clf.fit(X_train, y_train)\n",
    "predictions = clf.predict(X_test)\n",
    "clf.score(X_test, y_test)"
   ]
  },
  {
   "cell_type": "markdown",
   "metadata": {},
   "source": [
    "## Nearest Neighbors"
   ]
  },
  {
   "cell_type": "code",
   "execution_count": 41,
   "metadata": {
    "collapsed": false
   },
   "outputs": [
    {
     "data": {
      "text/plain": [
       "0.73005583879582425"
      ]
     },
     "execution_count": 41,
     "metadata": {},
     "output_type": "execute_result"
    }
   ],
   "source": [
    "clf = KNeighborsClassifier()\n",
    "clf.fit(X_train, y_train)\n",
    "predictions = clf.predict(X_test)\n",
    "clf.score(X_test, y_test)"
   ]
  },
  {
   "cell_type": "code",
   "execution_count": 42,
   "metadata": {
    "collapsed": false
   },
   "outputs": [
    {
     "name": "stdout",
     "output_type": "stream",
     "text": [
      "Confusion Matrix:\n",
      "[[  132   231     0     7   123     2    58    56     0     4   133]\n",
      " [   54 12679    67   126   223     5    51   271     3    12   139]\n",
      " [    6   539   316   113    64     1     1   226     4     0   235]\n",
      " [    3   318    56   639    44     5     4   109     3     4    87]\n",
      " [   32   253    15    21  6108    33    48    54    20     4   215]\n",
      " [    2    29    12     5   219    34     6    18    11     0   104]\n",
      " [   10    45     0     1    53     0  2749    24     0    13    12]\n",
      " [   72  1442   280   150   281    10   120  1685     4    53   581]\n",
      " [    0    12     5     6   164    13     3    14    44     2    85]\n",
      " [   11    99     2     7    59     5   162    83     2   181   125]\n",
      " [   69   593   208    88   883    26    56   599    29    70  5504]]\n"
     ]
    }
   ],
   "source": [
    "cm = confusion_matrix(y_test, predictions)\n",
    "print('Confusion Matrix:')\n",
    "print(cm)"
   ]
  },
  {
   "cell_type": "code",
   "execution_count": 43,
   "metadata": {
    "collapsed": false
   },
   "outputs": [
    {
     "data": {
      "image/png": "[encoded data removed]",
      "text/plain": [
       "<matplotlib.figure.Figure at 0x104526128>"
      ]
     },
     "metadata": {},
     "output_type": "display_data"
    }
   ],
   "source": [
    "plt.figure(figsize=(20, 12))\n",
    "sns.heatmap(cm, annot=True, fmt='g')\n",
    "plt.show()"
   ]
  },
  {
   "cell_type": "markdown",
   "metadata": {},
   "source": [
    "## SVM only for A01"
   ]
  },
  {
   "cell_type": "code",
   "execution_count": 44,
   "metadata": {
    "collapsed": true
   },
   "outputs": [],
   "source": [
    "y_a01 = a01['activity']\n",
    "y_a01 = y_a01.astype('category').cat.codes"
   ]
  },
  {
   "cell_type": "code",
   "execution_count": 45,
   "metadata": {
    "collapsed": true
   },
   "outputs": [],
   "source": [
    "X_a01 = a01.drop(['activity', 'date', 'timestamp', 'tag', 'name'], axis=1)"
   ]
  },
  {
   "cell_type": "code",
   "execution_count": 46,
   "metadata": {
    "collapsed": false
   },
   "outputs": [
    {
     "data": {
      "text/plain": [
       "Index(['x', 'y', 'z', 'dx', 'dy', 'dz', 'tag_010-000-024-033',\n",
       "       'tag_010-000-030-096', 'tag_020-000-032-221', 'tag_020-000-033-111',\n",
       "       'name_A01', 'name_A02', 'name_A03', 'name_A04', 'name_A05', 'name_B01',\n",
       "       'name_B02', 'name_B03', 'name_B04', 'name_B05', 'name_C01', 'name_C02',\n",
       "       'name_C03', 'name_C04', 'name_C05', 'name_D01', 'name_D02', 'name_D03',\n",
       "       'name_D04', 'name_D05', 'name_E01', 'name_E02', 'name_E03', 'name_E04',\n",
       "       'name_E05'],\n",
       "      dtype='object')"
      ]
     },
     "execution_count": 46,
     "metadata": {},
     "output_type": "execute_result"
    }
   ],
   "source": [
    "X_a01.columns"
   ]
  },
  {
   "cell_type": "code",
   "execution_count": 47,
   "metadata": {
    "collapsed": false
   },
   "outputs": [],
   "source": [
    "X1_train, X1_test, y1_train, y1_test = train_test_split(X_a01, y_a01)"
   ]
  },
  {
   "cell_type": "code",
   "execution_count": 48,
   "metadata": {
    "collapsed": false
   },
   "outputs": [
    {
     "data": {
      "text/plain": [
       "0.5143540669856459"
      ]
     },
     "execution_count": 48,
     "metadata": {},
     "output_type": "execute_result"
    }
   ],
   "source": [
    "clf = SVC()\n",
    "clf.fit(X1_train, y1_train)\n",
    "predictions = clf.predict(X1_test)\n",
    "clf.score(X1_test, y1_test)"
   ]
  },
  {
   "cell_type": "code",
   "execution_count": 49,
   "metadata": {
    "collapsed": false
   },
   "outputs": [
    {
     "name": "stdout",
     "output_type": "stream",
     "text": [
      "Confusion Matrix:\n",
      "[[  0   5   0   0   1   0   1   0   0   0   0]\n",
      " [  0 154   0   0   0   0   0   0   0   0   0]\n",
      " [  0   9   0   0   0   0   0   0   0   0   0]\n",
      " [  0  26   0   0   0   0   0   0   0   0   0]\n",
      " [  0  43   0   0  16   0   0   0   0   0   6]\n",
      " [  0   1   0   0   2   0   0   0   0   0   7]\n",
      " [  0   0   0   0   0   0  31   0   0   0   0]\n",
      " [  0  30   0   0   6   0   3   0   0   0   2]\n",
      " [  0   1   0   0   0   0   0   0   0   0   1]\n",
      " [  0   0   0   0   2   0   0   0   0   0   4]\n",
      " [  0  39   0   0  14   0   0   0   0   0  14]]\n"
     ]
    }
   ],
   "source": [
    "cm = confusion_matrix(y1_test, predictions)\n",
    "print('Confusion Matrix:')\n",
    "print(cm)"
   ]
  },
  {
   "cell_type": "code",
   "execution_count": 50,
   "metadata": {
    "collapsed": false
   },
   "outputs": [
    {
     "data": {
      "image/png": "[encoded data removed]",
      "text/plain": [
       "<matplotlib.figure.Figure at 0x1045262b0>"
      ]
     },
     "metadata": {},
     "output_type": "display_data"
    }
   ],
   "source": [
    "plt.figure(figsize=(20, 12))\n",
    "sns.heatmap(cm, annot=True, fmt='g')\n",
    "plt.show()"
   ]
  }
 ],
 "metadata": {
  "kernelspec": {
   "display_name": "Python [default]",
   "language": "python",
   "name": "python3"
  },
  "language_info": {
   "codemirror_mode": {
    "name": "ipython",
    "version": 3
   },
   "file_extension": ".py",
   "mimetype": "text/x-python",
   "name": "python",
   "nbconvert_exporter": "python",
   "pygments_lexer": "ipython3",
   "version": "3.5.2"
  }
 },
 "nbformat": 4,
 "nbformat_minor": 2
}
