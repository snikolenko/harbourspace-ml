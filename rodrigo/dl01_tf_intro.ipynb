{
 "cells": [
  {
   "cell_type": "markdown",
   "metadata": {},
   "source": [
    "### Generating data"
   ]
  },
  {
   "cell_type": "code",
   "execution_count": null,
   "metadata": {},
   "outputs": [],
   "source": [
    "import numpy as np,tensorflow as tf\n",
    "\n",
    "true_slope, true_bias = 2., 1.\n",
    "n_samples = 1000\n",
    "\n",
    "X_data = np.random.uniform(1, 10, (n_samples, 1))\n",
    "y_data = true_slope * X_data + true_bias + np.random.normal(0, 2, (n_samples, 1))"
   ]
  },
  {
   "cell_type": "markdown",
   "metadata": {},
   "source": [
    "### TensorFlow linear regression"
   ]
  },
  {
   "cell_type": "code",
   "execution_count": null,
   "metadata": {},
   "outputs": [],
   "source": [
    "X = tf.placeholder(tf.float32)\n",
    "y = tf.placeholder(tf.float32)\n",
    "\n",
    "k = tf.Variable(np.random.randn(), name=\"slope\")\n",
    "b = tf.Variable(np.random.randn(), name=\"bias\")\n",
    "\n",
    "y_pred = tf.mul(X, k) + b + 1\n",
    "loss = tf.reduce_sum(tf.pow(y - y_pred, 2)) / n_samples\n",
    "\n",
    "batch_size, num_steps, learning_rate, display_step = 50, 20000, .3001, 200\n",
    "\n",
    "optimizer = tf.train.GradientDescentOptimizer(learning_rate).minimize(loss)\n",
    "with tf.Session() as sess:\n",
    "    init = tf.initialize_all_variables()\n",
    "    sess.run(init)\n",
    "    for i in range(num_steps):\n",
    "        indices = np.random.choice(n_samples, batch_size)\n",
    "        X_batch, y_batch = X_data[indices], y_data[indices]\n",
    "        sess.run(optimizer, feed_dict = { X : X_batch, y : y_batch })\n",
    "        if (i+1) % display_step == 0:\n",
    "            loss_val, k_val, b_val = sess.run([ loss, k, b ], feed_dict = { X : X_data, y : y_data })\n",
    "            print(\"Epoch %d: %.8f, k=%.4f, b=%.4f\" % (i+1, loss_val, k_val, b_val))\n"
   ]
  },
  {
   "cell_type": "markdown",
   "metadata": {},
   "source": [
    "### Getting MNIST"
   ]
  },
  {
   "cell_type": "code",
   "execution_count": null,
   "metadata": {},
   "outputs": [],
   "source": [
    "from tensorflow.examples.tutorials.mnist import input_data\n",
    "mnist = input_data.read_data_sets(\"MNIST_data/\", one_hot=True)"
   ]
  },
  {
   "cell_type": "code",
   "execution_count": null,
   "metadata": {},
   "outputs": [],
   "source": [
    "mnist.train.images[10]"
   ]
  }
 ],
 "metadata": {
  "kernelspec": {
   "display_name": "Python [default]",
   "language": "python",
   "name": "python3"
  },
  "language_info": {
   "codemirror_mode": {
    "name": "ipython",
    "version": 3
   },
   "file_extension": ".py",
   "mimetype": "text/x-python",
   "name": "python",
   "nbconvert_exporter": "python",
   "pygments_lexer": "ipython3",
   "version": "3.5.2"
  }
 },
 "nbformat": 4,
 "nbformat_minor": 1
}
