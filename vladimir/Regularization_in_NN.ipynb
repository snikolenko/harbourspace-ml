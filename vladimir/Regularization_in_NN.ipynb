{
 "cells": [
  {
   "cell_type": "code",
   "execution_count": 1,
   "metadata": {
    "collapsed": true
   },
   "outputs": [],
   "source": [
    "import matplotlib.pyplot as plt\n",
    "import numpy as np\n",
    "import tensorflow as tf\n",
    "from tensorflow.examples.tutorials.mnist import input_data"
   ]
  },
  {
   "cell_type": "code",
   "execution_count": 2,
   "metadata": {
    "collapsed": true
   },
   "outputs": [],
   "source": [
    "DATA_DIR = 'tmp/data'"
   ]
  },
  {
   "cell_type": "code",
   "execution_count": 3,
   "metadata": {
    "collapsed": false
   },
   "outputs": [
    {
     "name": "stdout",
     "output_type": "stream",
     "text": [
      "Extracting tmp/data/train-images-idx3-ubyte.gz\n",
      "Extracting tmp/data/train-labels-idx1-ubyte.gz\n",
      "Extracting tmp/data/t10k-images-idx3-ubyte.gz\n",
      "Extracting tmp/data/t10k-labels-idx1-ubyte.gz\n"
     ]
    }
   ],
   "source": [
    "data = input_data.read_data_sets(DATA_DIR, one_hot=True)"
   ]
  },
  {
   "cell_type": "code",
   "execution_count": 4,
   "metadata": {
    "collapsed": false
   },
   "outputs": [],
   "source": [
    "n_feats = data.train.images.shape[1]\n",
    "n_labels = data.train.labels.shape[1]\n",
    "n_input_hidden_nodes = 100\n",
    "n_output_hidden_nodes = 50"
   ]
  },
  {
   "cell_type": "code",
   "execution_count": 37,
   "metadata": {
    "collapsed": true
   },
   "outputs": [],
   "source": [
    "n_steps = 5000\n",
    "minibatch_size = 100\n",
    "step_to_print = 200\n",
    "learning_rate = 0.5"
   ]
  },
  {
   "cell_type": "code",
   "execution_count": 6,
   "metadata": {
    "collapsed": true
   },
   "outputs": [],
   "source": [
    "x = tf.placeholder(tf.float32)\n",
    "y_true = tf.placeholder(tf.float32)\n",
    "\n",
    "# Dropout prob\n",
    "keep_prob = tf.placeholder(tf.float32)"
   ]
  },
  {
   "cell_type": "code",
   "execution_count": 7,
   "metadata": {
    "collapsed": true
   },
   "outputs": [],
   "source": [
    "def singlelayer_nn():\n",
    "    initializer = tf.contrib.layers.xavier_initializer_conv2d()\n",
    "#     W = tf.Variable(tf.zeros([n_feats, n_labels]), initializer=tf.contrib.layers.xavier_initializer())\n",
    "    W = tf.Variable(initializer(shape=[n_feats, n_labels]), name='W')\n",
    "    b = tf.Variable(tf.zeros([n_labels]))\n",
    "    \n",
    "    # Regularization term\n",
    "    reg_term = tf.nn.l2_loss(W)  + tf.nn.l2_loss(b)\n",
    "#     reg_term = 0\n",
    "    \n",
    "    return tf.matmul(x, W) + b, reg_term"
   ]
  },
  {
   "cell_type": "code",
   "execution_count": 78,
   "metadata": {
    "collapsed": false
   },
   "outputs": [],
   "source": [
    "def multilayer_nn(n_input_hidden_nodes, n_output_hidden_nodes,\n",
    "                  activation_f=tf.nn.sigmoid, use_xavier=True, use_dropout=True):\n",
    "    # Define vars\n",
    "    if use_xavier:\n",
    "        initializer = tf.contrib.layers.xavier_initializer_conv2d()\n",
    "        W_input = tf.Variable(initializer(shape=[n_feats, n_input_hidden_nodes]), name='W_input')\n",
    "    else:\n",
    "        W_input = tf.Variable(tf.zeros([n_feats, n_input_hidden_nodes]))\n",
    "    b_input = tf.Variable(tf.zeros([n_input_hidden_nodes]))\n",
    "    \n",
    "    W_hidden = tf.Variable(tf.zeros([n_input_hidden_nodes, n_output_hidden_nodes]))\n",
    "    b_hidden = tf.Variable(tf.zeros([n_output_hidden_nodes]))\n",
    "    \n",
    "    W_output = tf.Variable(tf.zeros([n_output_hidden_nodes, n_labels]))\n",
    "    b_output = tf.Variable(tf.zeros([n_labels]))\n",
    "    \n",
    "    # Declare layers\n",
    "    # Input layer\n",
    "    preact_input = tf.matmul(x, W_input) + b_input\n",
    "    act_input = activation_f(preact_input)\n",
    "    act_input = preact_input\n",
    "    \n",
    "    # Hidden layer\n",
    "    preact_hidden = tf.matmul(act_input, W_hidden) + b_hidden\n",
    "    act_hidden = activation_f(preact_hidden)\n",
    "    \n",
    "    # Dropout\n",
    "#     if use_dropout:\n",
    "    act_hidden = tf.nn.dropout(act_hidden, keep_prob)\n",
    "\n",
    "    # Output layer\n",
    "    preact_output = tf.matmul(act_hidden, W_output) + b_output\n",
    "    act_output = activation_f(preact_output)\n",
    "\n",
    "    # Regularization term\n",
    "    reg_term = tf.nn.l2_loss(W_input)  + tf.nn.l2_loss(b_input) + \\\n",
    "               tf.nn.l2_loss(W_hidden) + tf.nn.l2_loss(b_hidden) + \\\n",
    "               tf.nn.l2_loss(W_output) + tf.nn.l2_loss(b_output)\n",
    "    \n",
    "    return act_output, reg_term"
   ]
  },
  {
   "cell_type": "code",
   "execution_count": 67,
   "metadata": {
    "collapsed": true
   },
   "outputs": [],
   "source": [
    "def weight_decay(y_pred, reg_term, lam=0.0):\n",
    "    cross_entropy = (tf.reduce_mean(tf.nn.softmax_cross_entropy_with_logits(logits=y_pred, labels=y_true))\n",
    "                 + lam * reg_term)\n",
    "    gd_step = tf.train.GradientDescentOptimizer(learning_rate).minimize(cross_entropy)\n",
    "    correct_mask = tf.equal(tf.argmax(y_pred, axis=1), tf.argmax(y_true, axis=1))\n",
    "    accuracy = tf.reduce_mean(tf.cast(correct_mask, tf.float32))\n",
    "    \n",
    "    with tf.Session() as sess:\n",
    "        # Train\n",
    "        init = tf.global_variables_initializer()\n",
    "        sess.run(init)\n",
    "\n",
    "        for i in range(n_steps):\n",
    "            batch_xs, batch_ys = data.train.next_batch(minibatch_size)\n",
    "            sess.run(gd_step, feed_dict={x: batch_xs, y_true: batch_ys, keep_prob: 0.5})\n",
    "\n",
    "            if (i + 1) % step_to_print == 0:\n",
    "                # Test\n",
    "                acc = sess.run(\n",
    "                    accuracy, \n",
    "                    feed_dict={x: data.test.images, y_true: data.test.labels, keep_prob: 1.0})\n",
    "                print('Step {}, acc = {:.3f}'.format(i + 1, acc))\n",
    "        # Test\n",
    "#         acc = sess.run(\n",
    "#             accuracy, \n",
    "#             feed_dict={x: data.test.images, y_true: data.test.labels, keep_prob: 1.0})\n",
    "        \n",
    "    return acc"
   ]
  },
  {
   "cell_type": "markdown",
   "metadata": {},
   "source": [
    "### Weight decay"
   ]
  },
  {
   "cell_type": "code",
   "execution_count": 10,
   "metadata": {
    "collapsed": true
   },
   "outputs": [],
   "source": [
    "lams = [0.0001, 0.001, 0.01, 0.1, 1, 10, 100, 1000]"
   ]
  },
  {
   "cell_type": "markdown",
   "metadata": {},
   "source": [
    "### For single layer:"
   ]
  },
  {
   "cell_type": "code",
   "execution_count": 192,
   "metadata": {
    "collapsed": true
   },
   "outputs": [],
   "source": [
    "y_pred, reg_term = singlelayer_nn()"
   ]
  },
  {
   "cell_type": "code",
   "execution_count": 180,
   "metadata": {
    "collapsed": false
   },
   "outputs": [
    {
     "name": "stdout",
     "output_type": "stream",
     "text": [
      "acc = 0.923\n",
      "acc = 0.916\n",
      "acc = 0.900\n",
      "acc = 0.828\n",
      "acc = 0.220\n",
      "acc = 0.098\n",
      "acc = 0.098\n",
      "acc = 0.098\n"
     ]
    }
   ],
   "source": [
    "accs = []\n",
    "for lam in lams:\n",
    "    acc = weight_decay(y_pred, reg_term, lam)\n",
    "    print('acc = {:.3f}'.format(acc))\n",
    "    accs.append(acc)"
   ]
  },
  {
   "cell_type": "code",
   "execution_count": 163,
   "metadata": {
    "collapsed": true
   },
   "outputs": [],
   "source": [
    "# Batch normalization\n",
    "#        tf.nn.batch_normalization(x, mean, variance, offset, scale, variance_epsilon, name=None)\n",
    "# normed = tf.nn.batch_normalization(x, mean, var, beta, gamma, 1e-3)"
   ]
  },
  {
   "cell_type": "code",
   "execution_count": 191,
   "metadata": {
    "collapsed": false
   },
   "outputs": [
    {
     "data": {
      "image/png": "[encoded data removed]",
      "text/plain": [
       "<matplotlib.figure.Figure at 0x7f1a87704588>"
      ]
     },
     "metadata": {},
     "output_type": "display_data"
    }
   ],
   "source": [
    "fig = plt.figure()\n",
    "ax = fig.add_subplot(2,1,1)\n",
    "line, = ax.plot(lams, accs, color='blue', lw=2)\n",
    "ax.set_xscale('log')\n",
    "plt.show()"
   ]
  },
  {
   "cell_type": "markdown",
   "metadata": {},
   "source": [
    "### For multiple layers:"
   ]
  },
  {
   "cell_type": "code",
   "execution_count": 195,
   "metadata": {
    "collapsed": true
   },
   "outputs": [],
   "source": [
    "y_pred, reg_term = multilayer_nn(n_input_hidden_nodes, n_output_hidden_nodes)"
   ]
  },
  {
   "cell_type": "code",
   "execution_count": 196,
   "metadata": {
    "collapsed": false
   },
   "outputs": [
    {
     "name": "stdout",
     "output_type": "stream",
     "text": [
      "acc = 0.103\n",
      "acc = 0.113\n",
      "acc = 0.101\n",
      "acc = 0.101\n",
      "acc = 0.089\n",
      "acc = 0.098\n",
      "acc = 0.098\n",
      "acc = 0.098\n"
     ]
    }
   ],
   "source": [
    "accs = []\n",
    "for lam in lams:\n",
    "    acc = weight_decay(y_pred, reg_term, lam)\n",
    "    print('acc = {:.3f}'.format(acc))\n",
    "    accs.append(acc)"
   ]
  },
  {
   "cell_type": "code",
   "execution_count": 198,
   "metadata": {
    "collapsed": false
   },
   "outputs": [
    {
     "data": {
      "image/png": "[encoded data removed]",
      "text/plain": [
       "<matplotlib.figure.Figure at 0x7f1a84f86128>"
      ]
     },
     "metadata": {},
     "output_type": "display_data"
    }
   ],
   "source": [
    "fig = plt.figure()\n",
    "ax = fig.add_subplot(2,1,1)\n",
    "line, = ax.plot(lams, accs, color='blue', lw=2)\n",
    "ax.set_xscale('log')\n",
    "plt.show()"
   ]
  },
  {
   "cell_type": "markdown",
   "metadata": {},
   "source": [
    "### With Xavier initialization"
   ]
  },
  {
   "cell_type": "markdown",
   "metadata": {},
   "source": [
    "### For single layer:"
   ]
  },
  {
   "cell_type": "code",
   "execution_count": 33,
   "metadata": {
    "collapsed": false
   },
   "outputs": [],
   "source": [
    "y_pred, reg_term = singlelayer_nn()"
   ]
  },
  {
   "cell_type": "code",
   "execution_count": 34,
   "metadata": {
    "collapsed": false,
    "scrolled": true
   },
   "outputs": [
    {
     "name": "stdout",
     "output_type": "stream",
     "text": [
      "Step 200, acc = 0.904\n",
      "Step 400, acc = 0.904\n",
      "Step 600, acc = 0.914\n",
      "Step 800, acc = 0.913\n",
      "Step 1000, acc = 0.918\n",
      "Step 1200, acc = 0.913\n",
      "Step 1400, acc = 0.919\n",
      "Step 1600, acc = 0.919\n",
      "Step 1800, acc = 0.920\n",
      "Step 2000, acc = 0.919\n",
      "Step 2200, acc = 0.921\n",
      "Step 2400, acc = 0.919\n",
      "Step 2600, acc = 0.921\n",
      "Step 2800, acc = 0.923\n",
      "Step 3000, acc = 0.921\n",
      "Step 3200, acc = 0.920\n",
      "Step 3400, acc = 0.921\n",
      "Step 3600, acc = 0.918\n",
      "Step 3800, acc = 0.923\n",
      "Step 4000, acc = 0.923\n",
      "Step 4200, acc = 0.916\n",
      "Step 4400, acc = 0.923\n",
      "Step 4600, acc = 0.923\n",
      "Step 4800, acc = 0.916\n",
      "Step 5000, acc = 0.922\n",
      "acc = 0.922\n"
     ]
    }
   ],
   "source": [
    "acc = weight_decay(y_pred, reg_term)\n",
    "print('acc = {:.3f}'.format(acc))"
   ]
  },
  {
   "cell_type": "markdown",
   "metadata": {},
   "source": [
    "### For multiple layers:"
   ]
  },
  {
   "cell_type": "code",
   "execution_count": 42,
   "metadata": {
    "collapsed": true
   },
   "outputs": [],
   "source": [
    "n_steps = 10000\n",
    "minibatch_size = 200\n",
    "step_to_print = 500\n",
    "learning_rate = 0.5"
   ]
  },
  {
   "cell_type": "code",
   "execution_count": 40,
   "metadata": {
    "collapsed": true
   },
   "outputs": [],
   "source": [
    "y_pred, reg_term = multilayer_nn(n_input_hidden_nodes, n_output_hidden_nodes)"
   ]
  },
  {
   "cell_type": "code",
   "execution_count": 41,
   "metadata": {
    "collapsed": false
   },
   "outputs": [
    {
     "name": "stdout",
     "output_type": "stream",
     "text": [
      "Step 500, acc = 0.892\n",
      "Step 1000, acc = 0.920\n",
      "Step 1500, acc = 0.928\n",
      "Step 2000, acc = 0.926\n",
      "Step 2500, acc = 0.933\n",
      "Step 3000, acc = 0.935\n",
      "Step 3500, acc = 0.939\n",
      "Step 4000, acc = 0.940\n",
      "Step 4500, acc = 0.946\n",
      "Step 5000, acc = 0.944\n",
      "Step 5500, acc = 0.946\n",
      "Step 6000, acc = 0.948\n",
      "Step 6500, acc = 0.951\n",
      "Step 7000, acc = 0.952\n",
      "Step 7500, acc = 0.951\n",
      "Step 8000, acc = 0.951\n",
      "Step 8500, acc = 0.952\n",
      "Step 9000, acc = 0.951\n",
      "Step 9500, acc = 0.953\n",
      "Step 10000, acc = 0.953\n",
      "acc = 0.953\n"
     ]
    }
   ],
   "source": [
    "acc = weight_decay(y_pred, reg_term, 0)\n",
    "print('acc = {:.3f}'.format(acc))"
   ]
  },
  {
   "cell_type": "markdown",
   "metadata": {},
   "source": [
    "## Different activation functions"
   ]
  },
  {
   "cell_type": "markdown",
   "metadata": {},
   "source": [
    "### Sigmoid:"
   ]
  },
  {
   "cell_type": "code",
   "execution_count": 79,
   "metadata": {
    "collapsed": true
   },
   "outputs": [],
   "source": [
    "y_pred, reg_term = multilayer_nn(n_input_hidden_nodes, n_output_hidden_nodes)"
   ]
  },
  {
   "cell_type": "code",
   "execution_count": 80,
   "metadata": {
    "collapsed": false
   },
   "outputs": [
    {
     "name": "stdout",
     "output_type": "stream",
     "text": [
      "Step 500, acc = 0.465\n",
      "Step 1000, acc = 0.509\n",
      "Step 1500, acc = 0.615\n",
      "Step 2000, acc = 0.639\n",
      "Step 2500, acc = 0.695\n",
      "Step 3000, acc = 0.731\n",
      "Step 3500, acc = 0.760\n",
      "Step 4000, acc = 0.770\n",
      "Step 4500, acc = 0.775\n",
      "Step 5000, acc = 0.779\n",
      "Step 5500, acc = 0.787\n",
      "Step 6000, acc = 0.803\n",
      "Step 6500, acc = 0.870\n",
      "Step 7000, acc = 0.888\n",
      "Step 7500, acc = 0.898\n",
      "Step 8000, acc = 0.901\n",
      "Step 8500, acc = 0.904\n",
      "Step 9000, acc = 0.908\n",
      "Step 9500, acc = 0.907\n",
      "Step 10000, acc = 0.908\n"
     ]
    }
   ],
   "source": [
    "acc = weight_decay(y_pred, reg_term)"
   ]
  },
  {
   "cell_type": "markdown",
   "metadata": {},
   "source": [
    "### Tanh"
   ]
  },
  {
   "cell_type": "code",
   "execution_count": 63,
   "metadata": {
    "collapsed": true
   },
   "outputs": [],
   "source": [
    "y_pred, reg_term = multilayer_nn(n_input_hidden_nodes, n_output_hidden_nodes, activation_f=tf.nn.tanh)"
   ]
  },
  {
   "cell_type": "code",
   "execution_count": 64,
   "metadata": {
    "collapsed": false
   },
   "outputs": [
    {
     "name": "stdout",
     "output_type": "stream",
     "text": [
      "Step 500, acc = 0.113\n",
      "Step 1000, acc = 0.103\n",
      "Step 1500, acc = 0.113\n",
      "Step 2000, acc = 0.113\n",
      "Step 2500, acc = 0.113\n",
      "Step 3000, acc = 0.103\n",
      "Step 3500, acc = 0.113\n",
      "Step 4000, acc = 0.113\n",
      "Step 4500, acc = 0.113\n",
      "Step 5000, acc = 0.113\n",
      "Step 5500, acc = 0.113\n",
      "Step 6000, acc = 0.113\n",
      "Step 6500, acc = 0.113\n",
      "Step 7000, acc = 0.113\n",
      "Step 7500, acc = 0.103\n",
      "Step 8000, acc = 0.113\n",
      "Step 8500, acc = 0.113\n",
      "Step 9000, acc = 0.113\n",
      "Step 9500, acc = 0.113\n",
      "Step 10000, acc = 0.113\n"
     ]
    }
   ],
   "source": [
    "acc = weight_decay(y_pred, reg_term)"
   ]
  },
  {
   "cell_type": "markdown",
   "metadata": {},
   "source": [
    "### RELU"
   ]
  },
  {
   "cell_type": "code",
   "execution_count": 76,
   "metadata": {
    "collapsed": true
   },
   "outputs": [],
   "source": [
    "y_pred, reg_term = multilayer_nn(n_input_hidden_nodes, n_output_hidden_nodes, activation_f=tf.nn.relu)"
   ]
  },
  {
   "cell_type": "code",
   "execution_count": 77,
   "metadata": {
    "collapsed": false
   },
   "outputs": [
    {
     "name": "stdout",
     "output_type": "stream",
     "text": [
      "Step 500, acc = 0.098\n",
      "Step 1000, acc = 0.098\n",
      "Step 1500, acc = 0.098\n",
      "Step 2000, acc = 0.098\n",
      "Step 2500, acc = 0.098\n",
      "Step 3000, acc = 0.098\n",
      "Step 3500, acc = 0.098\n",
      "Step 4000, acc = 0.098\n",
      "Step 4500, acc = 0.098\n",
      "Step 5000, acc = 0.098\n",
      "Step 5500, acc = 0.098\n",
      "Step 6000, acc = 0.098\n",
      "Step 6500, acc = 0.098\n",
      "Step 7000, acc = 0.098\n",
      "Step 7500, acc = 0.098\n",
      "Step 8000, acc = 0.098\n",
      "Step 8500, acc = 0.098\n",
      "Step 9000, acc = 0.098\n",
      "Step 9500, acc = 0.098\n",
      "Step 10000, acc = 0.098\n"
     ]
    }
   ],
   "source": [
    "acc = weight_decay(y_pred, reg_term)"
   ]
  },
  {
   "cell_type": "code",
   "execution_count": null,
   "metadata": {
    "collapsed": true
   },
   "outputs": [],
   "source": []
  }
 ],
 "metadata": {
  "anaconda-cloud": {},
  "kernelspec": {
   "display_name": "Python [conda root]",
   "language": "python",
   "name": "conda-root-py"
  },
  "language_info": {
   "codemirror_mode": {
    "name": "ipython",
    "version": 3
   },
   "file_extension": ".py",
   "mimetype": "text/x-python",
   "name": "python",
   "nbconvert_exporter": "python",
   "pygments_lexer": "ipython3",
   "version": "3.5.2"
  }
 },
 "nbformat": 4,
 "nbformat_minor": 1
}
