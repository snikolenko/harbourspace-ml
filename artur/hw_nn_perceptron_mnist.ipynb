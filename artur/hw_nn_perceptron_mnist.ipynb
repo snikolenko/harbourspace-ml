{
 "cells": [
  {
   "cell_type": "code",
   "execution_count": 49,
   "metadata": {
    "collapsed": false,
    "deletable": true,
    "editable": true
   },
   "outputs": [],
   "source": [
    "import tensorflow as tf\n",
    "import numpy as np\n",
    "from tensorflow.examples.tutorials.mnist import input_data\n"
   ]
  },
  {
   "cell_type": "code",
   "execution_count": 50,
   "metadata": {
    "collapsed": false,
    "deletable": true,
    "editable": true
   },
   "outputs": [
    {
     "name": "stdout",
     "output_type": "stream",
     "text": [
      "Extracting MNIST_data/train-images-idx3-ubyte.gz\n",
      "Extracting MNIST_data/train-labels-idx1-ubyte.gz\n",
      "Extracting MNIST_data/t10k-images-idx3-ubyte.gz\n",
      "Extracting MNIST_data/t10k-labels-idx1-ubyte.gz\n"
     ]
    }
   ],
   "source": [
    "data = input_data.read_data_sets(\"MNIST_data/\", one_hot=True)\n"
   ]
  },
  {
   "cell_type": "code",
   "execution_count": 74,
   "metadata": {
    "collapsed": false,
    "deletable": true,
    "editable": true
   },
   "outputs": [],
   "source": [
    "\n",
    "\n",
    "x = tf.placeholder(tf.float32)\n",
    "y_true = tf.placeholder(tf.float32)\n",
    "keep_prob = tf.placeholder(tf.float32)\n",
    "\n",
    "\n",
    "\n",
    "def simple_2layer_nn(x):\n",
    "    W_1 = tf.Variable(tf.random_normal([784, N_NEURONS_1]))\n",
    "    x_1 = tf.add(tf.matmul(x, W_1), tf.Variable(tf.random_normal([N_NEURONS_1])))\n",
    "    x_1 = tf.nn.relu(x_1)\n",
    "\n",
    "    W_2 = tf.Variable(tf.random_normal([N_NEURONS_1, N_NEURONS_2]))\n",
    "    x_2 = tf.add(tf.matmul(x_1, W_2), tf.Variable(tf.random_normal([N_NEURONS_2])))\n",
    "    x_2 = tf.nn.relu(x_2)\n",
    "\n",
    "\n",
    "    W_3 = tf.Variable(tf.random_normal([N_NEURONS_2, 10]))\n",
    "    y_pred = tf.add(tf.matmul(x_2, W_3), tf.Variable(tf.random_normal([10])))\n",
    "    y_pred = tf.nn.relu(y_pred)\n",
    "    \n",
    "    return y_pred\n",
    "\n",
    "def simple_2layer_nn_with_dropout(x, keep_prob):\n",
    "    W_1 = tf.Variable(tf.random_normal([784, N_NEURONS_1]))\n",
    "    x_1 = tf.add(tf.matmul(x, W_1), tf.Variable(tf.random_normal([N_NEURONS_1])))\n",
    "    x_1 = tf.nn.relu(x_1)\n",
    "    x_1 = tf.nn.dropout(x_1, keep_prob)\n",
    "    \n",
    "    W_2 = tf.Variable(tf.random_normal([N_NEURONS_1, N_NEURONS_2]))\n",
    "    x_2 = tf.add(tf.matmul(x_1, W_2), tf.Variable(tf.random_normal([N_NEURONS_2])))\n",
    "    x_2 = tf.nn.relu(x_2)\n",
    "    x_2 = tf.nn.dropout(x_2, keep_prob)\n",
    "\n",
    "    W_3 = tf.Variable(tf.random_normal([N_NEURONS_2, 10]))\n",
    "    y_pred = tf.add(tf.matmul(x_2, W_3), tf.Variable(tf.random_normal([10])))\n",
    "    y_pred = tf.nn.relu(y_pred)\n",
    "    \n",
    "    return y_pred\n",
    "\n",
    "def simple_2layer_nn_with_dropout_xavier(x, keep_prob):\n",
    "    W_1 = tf.get_variable(\n",
    "        'W_1', shape=(784, N_NEURONS_1), initializer=tf.contrib.layers.xavier_initializer())\n",
    "    x_1 = tf.add(tf.matmul(x, W_1), tf.Variable(tf.random_normal([N_NEURONS_1])))\n",
    "    x_1 = tf.nn.relu(x_1)\n",
    "    x_1 = tf.nn.dropout(x_1, keep_prob)\n",
    "    \n",
    "    W_2 = tf.get_variable(\n",
    "        'W_2', shape=(N_NEURONS_1, N_NEURONS_2), initializer=tf.contrib.layers.xavier_initializer())\n",
    "    x_2 = tf.add(tf.matmul(x_1, W_2), tf.Variable(tf.random_normal([N_NEURONS_2])))\n",
    "    x_2 = tf.nn.relu(x_2)\n",
    "    x_2 = tf.nn.dropout(x_2, keep_prob)\n",
    "\n",
    "    W_3 = tf.get_variable(\n",
    "        'W_3', shape=(N_NEURONS_2, 10), initializer=tf.contrib.layers.xavier_initializer())\n",
    "    y_pred = tf.add(tf.matmul(x_2, W_3), tf.Variable(tf.random_normal([10])))\n",
    "    y_pred = tf.nn.relu(y_pred)\n",
    "    \n",
    "    return y_pred\n",
    "\n",
    "def simple_2layer_nn_sigmoid(x, keep_prob):\n",
    "    W_1 = tf.Variable(tf.random_normal([784, N_NEURONS_1]))\n",
    "    x_1 = tf.add(tf.matmul(x, W_1), tf.Variable(tf.random_normal([N_NEURONS_1])))\n",
    "    x_1 = tf.nn.sigmoid(x_1)\n",
    "\n",
    "    W_2 = tf.Variable(tf.random_normal([N_NEURONS_1, N_NEURONS_2]))\n",
    "    x_2 = tf.add(tf.matmul(x_1, W_2), tf.Variable(tf.random_normal([N_NEURONS_2])))\n",
    "    x_2 = tf.nn.sigmoid(x_2)\n",
    "\n",
    "\n",
    "    W_3 = tf.Variable(tf.random_normal([N_NEURONS_2, 10]))\n",
    "    y_pred = tf.add(tf.matmul(x_2, W_3), tf.Variable(tf.random_normal([10])))\n",
    "    y_pred = tf.nn.sigmoid(y_pred)\n",
    "    \n",
    "    return y_pred"
   ]
  },
  {
   "cell_type": "code",
   "execution_count": 75,
   "metadata": {
    "collapsed": false,
    "deletable": true,
    "editable": true
   },
   "outputs": [],
   "source": [
    "def train_and_compare(y_pred, x, y_true, keep_prob):\n",
    "    \n",
    "    cross_entropy = tf.reduce_mean(\n",
    "        tf.nn.softmax_cross_entropy_with_logits(logits=y_pred, labels=y_true))\n",
    "\n",
    "    gd_step = tf.train.AdamOptimizer(LEARNING_RATE).minimize(cross_entropy)\n",
    "    correct_mask = tf.equal(tf.argmax(y_pred, 1), tf.argmax(y_true, 1))\n",
    "    accuracy = tf.reduce_mean(tf.cast(correct_mask, tf.float32))\n",
    "    \n",
    "    with tf.Session() as sess:\n",
    "    \n",
    "        # Train\n",
    "        init = tf.global_variables_initializer()\n",
    "        sess.run(init)\n",
    "\n",
    "        for epoch in range(NUM_EPOCHS):\n",
    "            avg_cost = 0.\n",
    "            total_batch = int(data.train.num_examples/MINIBATCH_SIZE)\n",
    "\n",
    "            for _ in range(total_batch):\n",
    "                batch_xs, batch_ys = data.train.next_batch(MINIBATCH_SIZE)\n",
    "                sess.run(gd_step, feed_dict={x: batch_xs, y_true: batch_ys, keep_prob: 0.5})\n",
    "\n",
    "            if epoch % DISPLAY_STEP == 0:\n",
    "                ans = sess.run(\n",
    "                            accuracy, \n",
    "                            feed_dict={x: data.test.images, y_true: data.test.labels, keep_prob: 1})\n",
    "                print(\"Epoch: {0}, accuracy: {1}\".format(epoch, ans))"
   ]
  },
  {
   "cell_type": "code",
   "execution_count": 76,
   "metadata": {
    "collapsed": false,
    "deletable": true,
    "editable": true
   },
   "outputs": [
    {
     "name": "stdout",
     "output_type": "stream",
     "text": [
      "Epoch: 0, accuracy: 0.28600001335144043\n",
      "Epoch: 5, accuracy: 0.6669999957084656\n",
      "Epoch: 10, accuracy: 0.7874000072479248\n",
      "Epoch: 15, accuracy: 0.8105000257492065\n",
      "Epoch: 20, accuracy: 0.8216000199317932\n",
      "Epoch: 25, accuracy: 0.8309000134468079\n",
      "Epoch: 30, accuracy: 0.8364999890327454\n",
      "Epoch: 35, accuracy: 0.8393999934196472\n"
     ]
    }
   ],
   "source": [
    "N_NEURONS_1 = 200\n",
    "N_NEURONS_2 = 200\n",
    "NUM_EPOCHS = 40\n",
    "MINIBATCH_SIZE = 100\n",
    "LEARNING_RATE = 0.0001\n",
    "DISPLAY_STEP = 5\n",
    "# pred = simple_2layer_nn(x)\n",
    "# train_and_compare(pred, x, y_true, keep_prob)\n",
    "\n",
    "# pred = simple_2layer_nn_with_dropout(x, keep_prob)\n",
    "# train_and_compare(pred, x, y_true, keep_prob)\n",
    "\n",
    "# pred = simple_2layer_nn_with_dropout_xavier(x, keep_prob)\n",
    "# train_and_compare(pred, x, y_true, keep_prob)\n",
    "\n",
    "pred = simple_2layer_nn_sigmoid(x, keep_prob)\n",
    "train_and_compare(pred, x, y_true, keep_prob)\n"
   ]
  },
  {
   "cell_type": "code",
   "execution_count": null,
   "metadata": {
    "collapsed": false,
    "deletable": true,
    "editable": true
   },
   "outputs": [],
   "source": []
  },
  {
   "cell_type": "markdown",
   "metadata": {
    "collapsed": true,
    "deletable": true,
    "editable": true
   },
   "source": [
    "1) Dropout makes it longer to train the network\n",
    "\n",
    "2) Xavier initialization makes great initial boost for the training (compared with the random initialization): in the first epoch the accuracy is already ~0.57!\n"
   ]
  },
  {
   "cell_type": "code",
   "execution_count": null,
   "metadata": {
    "collapsed": true
   },
   "outputs": [],
   "source": []
  }
 ],
 "metadata": {
  "kernelspec": {
   "display_name": "Python 3",
   "language": "python",
   "name": "python3"
  },
  "language_info": {
   "codemirror_mode": {
    "name": "ipython",
    "version": 3
   },
   "file_extension": ".py",
   "mimetype": "text/x-python",
   "name": "python",
   "nbconvert_exporter": "python",
   "pygments_lexer": "ipython3",
   "version": "3.5.2"
  }
 },
 "nbformat": 4,
 "nbformat_minor": 2
}
