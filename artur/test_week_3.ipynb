{
 "cells": [
  {
   "cell_type": "code",
   "execution_count": 2,
   "metadata": {
    "collapsed": true
   },
   "outputs": [],
   "source": [
    "import os\n",
    "import pandas as pd\n",
    "import numpy as np\n",
    "\n"
   ]
  },
  {
   "cell_type": "markdown",
   "metadata": {},
   "source": [
    "# Load dataset"
   ]
  },
  {
   "cell_type": "code",
   "execution_count": 3,
   "metadata": {
    "collapsed": false
   },
   "outputs": [
    {
     "name": "stdout",
     "output_type": "stream",
     "text": [
      "Decoding error: ../data/nlp/20news-bydate-train/sci.electronics/53803\n",
      "Decoding error: ../data/nlp/20news-bydate-train/sci.electronics/53883\n",
      "Decoding error: ../data/nlp/20news-bydate-train/sci.electronics/53721\n",
      "Decoding error: ../data/nlp/20news-bydate-train/sci.med/59239\n",
      "Decoding error: ../data/nlp/20news-bydate-train/sci.med/59055\n",
      "Decoding error: ../data/nlp/20news-bydate-train/comp.sys.mac.hardware/50467\n",
      "Decoding error: ../data/nlp/20news-bydate-train/comp.sys.mac.hardware/51591\n",
      "Decoding error: ../data/nlp/20news-bydate-train/comp.sys.mac.hardware/51892\n",
      "Decoding error: ../data/nlp/20news-bydate-train/comp.sys.mac.hardware/51592\n",
      "Decoding error: ../data/nlp/20news-bydate-train/comp.sys.mac.hardware/51916\n",
      "Decoding error: ../data/nlp/20news-bydate-train/comp.sys.mac.hardware/51941\n",
      "Decoding error: ../data/nlp/20news-bydate-train/comp.sys.mac.hardware/51865\n",
      "Decoding error: ../data/nlp/20news-bydate-train/comp.sys.mac.hardware/51904\n",
      "Decoding error: ../data/nlp/20news-bydate-train/comp.sys.mac.hardware/51594\n",
      "Decoding error: ../data/nlp/20news-bydate-train/comp.sys.mac.hardware/51917\n",
      "Decoding error: ../data/nlp/20news-bydate-train/comp.sys.mac.hardware/51593\n",
      "Decoding error: ../data/nlp/20news-bydate-train/comp.windows.x/66871\n",
      "Decoding error: ../data/nlp/20news-bydate-train/comp.windows.x/66923\n",
      "Decoding error: ../data/nlp/20news-bydate-train/comp.windows.x/67305\n",
      "Decoding error: ../data/nlp/20news-bydate-train/comp.sys.ibm.pc.hardware/60498\n",
      "Decoding error: ../data/nlp/20news-bydate-train/comp.sys.ibm.pc.hardware/60366\n",
      "Decoding error: ../data/nlp/20news-bydate-train/sci.crypt/15672\n",
      "Decoding error: ../data/nlp/20news-bydate-train/rec.sport.baseball/104562\n",
      "Decoding error: ../data/nlp/20news-bydate-train/rec.sport.baseball/104352\n",
      "Decoding error: ../data/nlp/20news-bydate-train/rec.sport.baseball/104572\n",
      "Decoding error: ../data/nlp/20news-bydate-train/rec.sport.baseball/104474\n",
      "Decoding error: ../data/nlp/20news-bydate-train/rec.sport.baseball/104471\n",
      "Decoding error: ../data/nlp/20news-bydate-train/rec.sport.baseball/104419\n",
      "Decoding error: ../data/nlp/20news-bydate-train/misc.forsale/76112\n",
      "Decoding error: ../data/nlp/20news-bydate-train/misc.forsale/76548\n",
      "Decoding error: ../data/nlp/20news-bydate-train/alt.atheism/52910\n",
      "Decoding error: ../data/nlp/20news-bydate-train/alt.atheism/49960\n",
      "Decoding error: ../data/nlp/20news-bydate-train/alt.atheism/52499\n",
      "Decoding error: ../data/nlp/20news-bydate-train/alt.atheism/52909\n",
      "Decoding error: ../data/nlp/20news-bydate-train/alt.atheism/51060\n",
      "Decoding error: ../data/nlp/20news-bydate-train/rec.autos/101596\n",
      "Decoding error: ../data/nlp/20news-bydate-train/talk.religion.misc/83777\n",
      "Decoding error: ../data/nlp/20news-bydate-train/talk.religion.misc/82776\n",
      "Decoding error: ../data/nlp/20news-bydate-train/talk.religion.misc/83651\n",
      "Decoding error: ../data/nlp/20news-bydate-train/comp.graphics/38291\n",
      "Decoding error: ../data/nlp/20news-bydate-train/comp.graphics/38757\n",
      "Decoding error: ../data/nlp/20news-bydate-train/comp.graphics/38568\n",
      "Decoding error: ../data/nlp/20news-bydate-train/comp.graphics/38490\n",
      "Decoding error: ../data/nlp/20news-bydate-train/comp.graphics/38489\n"
     ]
    }
   ],
   "source": [
    "path = '../data/nlp/20news-bydate-train/'\n",
    "array = []\n",
    "for dir1 in os.listdir(path):\n",
    "    if os.path.isdir(os.path.join(path, dir1)):\n",
    "        \n",
    "        for file1 in os.listdir(os.path.join(path, dir1)):\n",
    "            #print(os.path.join(path, dir1, file1))\n",
    "            dct = {'From': '', 'Lines': '', 'Subject': '', 'Organization': ''}\n",
    "            with open(os.path.join(path, dir1, file1), 'r', encoding='utf-8') as f:\n",
    "                try:\n",
    "                    lines = f.readlines()\n",
    "                except:\n",
    "                    print('Decoding error: {0}'.format(os.path.join(path, dir1, file1)))\n",
    "            for i, line in enumerate(lines):\n",
    "                splitted = line.strip().split(': ')\n",
    "                if len(splitted) < 2:\n",
    "                    break\n",
    "                dct[splitted[0]] = splitted[1]\n",
    "\n",
    "            message = '\\n'.join(lines[i:])\n",
    "            array.append((dct['From'], dct['Lines'], dct['Subject'], dct['Organization'], message, dir1))\n"
   ]
  },
  {
   "cell_type": "code",
   "execution_count": 4,
   "metadata": {
    "collapsed": false
   },
   "outputs": [],
   "source": [
    "df = pd.DataFrame(array, columns=['From', 'Lines', 'Subject', 'Organization', 'Message', 'Category'])"
   ]
  },
  {
   "cell_type": "code",
   "execution_count": 5,
   "metadata": {
    "collapsed": false
   },
   "outputs": [
    {
     "name": "stdout",
     "output_type": "stream",
     "text": [
      "Decoding error: ../data/nlp/20news-bydate-test/sci.electronics/54485\n",
      "Decoding error: ../data/nlp/20news-bydate-test/sci.electronics/54071\n",
      "Decoding error: ../data/nlp/20news-bydate-test/sci.electronics/54070\n",
      "Decoding error: ../data/nlp/20news-bydate-test/sci.med/59535\n",
      "Decoding error: ../data/nlp/20news-bydate-test/rec.sport.hockey/54042\n",
      "Decoding error: ../data/nlp/20news-bydate-test/rec.sport.hockey/54000\n",
      "Decoding error: ../data/nlp/20news-bydate-test/rec.sport.hockey/53879\n",
      "Decoding error: ../data/nlp/20news-bydate-test/rec.sport.hockey/54036\n",
      "Decoding error: ../data/nlp/20news-bydate-test/rec.sport.hockey/54769\n",
      "Decoding error: ../data/nlp/20news-bydate-test/rec.sport.hockey/54516\n",
      "Decoding error: ../data/nlp/20news-bydate-test/comp.sys.mac.hardware/52164\n",
      "Decoding error: ../data/nlp/20news-bydate-test/comp.sys.mac.hardware/52196\n",
      "Decoding error: ../data/nlp/20news-bydate-test/comp.sys.mac.hardware/52033\n",
      "Decoding error: ../data/nlp/20news-bydate-test/comp.sys.mac.hardware/52165\n",
      "Decoding error: ../data/nlp/20news-bydate-test/sci.space/61556\n",
      "Decoding error: ../data/nlp/20news-bydate-test/sci.space/61534\n",
      "Decoding error: ../data/nlp/20news-bydate-test/sci.space/61293\n",
      "Decoding error: ../data/nlp/20news-bydate-test/comp.windows.x/68001\n",
      "Decoding error: ../data/nlp/20news-bydate-test/comp.sys.ibm.pc.hardware/61116\n",
      "Decoding error: ../data/nlp/20news-bydate-test/comp.sys.ibm.pc.hardware/60936\n",
      "Decoding error: ../data/nlp/20news-bydate-test/comp.sys.ibm.pc.hardware/60868\n",
      "Decoding error: ../data/nlp/20news-bydate-test/rec.sport.baseball/104984\n",
      "Decoding error: ../data/nlp/20news-bydate-test/misc.forsale/76361\n",
      "Decoding error: ../data/nlp/20news-bydate-test/misc.forsale/76843\n",
      "Decoding error: ../data/nlp/20news-bydate-test/alt.atheism/54163\n",
      "Decoding error: ../data/nlp/20news-bydate-test/alt.atheism/54164\n",
      "Decoding error: ../data/nlp/20news-bydate-test/rec.autos/103725\n",
      "Decoding error: ../data/nlp/20news-bydate-test/rec.autos/103694\n",
      "Decoding error: ../data/nlp/20news-bydate-test/rec.autos/103700\n"
     ]
    }
   ],
   "source": [
    "path = '../data/nlp/20news-bydate-test/'\n",
    "\n",
    "array = []\n",
    "for dir1 in os.listdir(path):\n",
    "    if os.path.isdir(os.path.join(path, dir1)):\n",
    "        \n",
    "        for file1 in os.listdir(os.path.join(path, dir1)):\n",
    "            #print(os.path.join(path, dir1, file1))\n",
    "            dct = {'From': '', 'Lines': '', 'Subject': '', 'Organization': ''}\n",
    "            with open(os.path.join(path, dir1, file1), 'r', encoding='utf-8') as f:\n",
    "                try:\n",
    "                    lines = f.readlines()\n",
    "                except:\n",
    "                    print('Decoding error: {0}'.format(os.path.join(path, dir1, file1)))\n",
    "            for i, line in enumerate(lines):\n",
    "                splitted = line.strip().split(': ')\n",
    "                if len(splitted) < 2:\n",
    "                    break\n",
    "                dct[splitted[0]] = splitted[1]\n",
    "\n",
    "            message = '\\n'.join(lines[i:])\n",
    "            array.append((dct['From'], dct['Lines'], dct['Subject'], dct['Organization'], message, dir1))\n",
    "\n",
    "df_test = pd.DataFrame(array, columns=['From', 'Lines', 'Subject', 'Organization', 'Message', 'Category'])"
   ]
  },
  {
   "cell_type": "code",
   "execution_count": 6,
   "metadata": {
    "collapsed": false
   },
   "outputs": [
    {
     "name": "stdout",
     "output_type": "stream",
     "text": [
      "(11314, 6)\n",
      "(7532, 6)\n"
     ]
    }
   ],
   "source": [
    "df_train = df\n",
    "print(df_train.shape)\n",
    "print(df_test.shape)"
   ]
  },
  {
   "cell_type": "code",
   "execution_count": 7,
   "metadata": {
    "collapsed": false
   },
   "outputs": [],
   "source": [
    "from sklearn.preprocessing import LabelEncoder\n",
    "df_train['Target'] = LabelEncoder().fit_transform(df_train['Category'])\n",
    "df_test['Target'] = LabelEncoder().fit_transform(df_test['Category'])"
   ]
  },
  {
   "cell_type": "code",
   "execution_count": 8,
   "metadata": {
    "collapsed": false
   },
   "outputs": [],
   "source": [
    "df_train['Re'] = (df_train['Subject'] == 'Re').map(lambda x: 1 if x else 0)\n",
    "df_test['Re'] = (df_test['Subject'] == 'Re').map(lambda x: 1 if x else 0)\n",
    "df_train['Subject'] = df_train['Subject'].map(lambda x: '' if x == 'Re' else x)\n",
    "df_test['Subject'] = df_test['Subject'].map(lambda x: '' if x == 'Re' else x)"
   ]
  },
  {
   "cell_type": "markdown",
   "metadata": {},
   "source": [
    "# Get features"
   ]
  },
  {
   "cell_type": "code",
   "execution_count": 9,
   "metadata": {
    "collapsed": false
   },
   "outputs": [],
   "source": [
    "import nltk\n",
    "from nltk.stem.snowball import SnowballStemmer\n",
    "from sklearn.feature_extraction.text import TfidfVectorizer\n",
    "import re\n",
    "\n",
    "stopwords = nltk.corpus.stopwords.words('english')\n",
    "stemmer = SnowballStemmer(\"english\")\n",
    "\n",
    "def tokenize_and_stem(text):\n",
    "    # first tokenize by sentence, then by word to ensure that punctuation is caught as it's own token\n",
    "    tokens = [word for sent in nltk.sent_tokenize(text) for word in nltk.word_tokenize(sent) if \\\n",
    "              len([letter for letter in word if letter.isalpha()]) > 2 and '.' not in word]\n",
    "    filtered_tokens = []\n",
    "    # filter out any tokens not containing letters (e.g., numeric tokens, raw punctuation)\n",
    "    for token in tokens:\n",
    "        if re.search('[a-zA-Z]', token):\n",
    "            filtered_tokens.append(token)\n",
    "    stems = [stemmer.stem(t) for t in filtered_tokens]\n",
    "    return stems\n"
   ]
  },
  {
   "cell_type": "code",
   "execution_count": 10,
   "metadata": {
    "collapsed": false
   },
   "outputs": [],
   "source": [
    "tfidf_vectorizer_message = TfidfVectorizer(max_df=0.5, max_features=200000,\n",
    "                                 min_df=10, stop_words='english',\n",
    "                                use_idf=True, tokenizer=tokenize_and_stem, ngram_range=(1,3))\n",
    "\n",
    "tfidf_message_train = tfidf_vectorizer_message.fit_transform(df_train['Message'])"
   ]
  },
  {
   "cell_type": "code",
   "execution_count": 11,
   "metadata": {
    "collapsed": false
   },
   "outputs": [],
   "source": [
    "tfidf_message_test = tfidf_vectorizer_message.transform(df_test['Message'])"
   ]
  },
  {
   "cell_type": "code",
   "execution_count": 12,
   "metadata": {
    "collapsed": true
   },
   "outputs": [],
   "source": [
    "tfidf_vectorizer_subject = TfidfVectorizer(max_df=0.8, max_features=200000,\n",
    "                                 min_df=2, stop_words='english',\n",
    "                                use_idf=True, tokenizer=tokenize_and_stem, ngram_range=(1,3))\n",
    "\n",
    "tfidf_subject_train = tfidf_vectorizer_subject.fit_transform(df_train['Subject'])\n",
    "tfidf_subject_test = tfidf_vectorizer_subject.transform(df_test['Subject'])"
   ]
  },
  {
   "cell_type": "markdown",
   "metadata": {},
   "source": [
    "# Classify"
   ]
  },
  {
   "cell_type": "markdown",
   "metadata": {},
   "source": [
    "## Train only with messages"
   ]
  },
  {
   "cell_type": "code",
   "execution_count": 13,
   "metadata": {
    "collapsed": false
   },
   "outputs": [
    {
     "data": {
      "text/plain": [
       "MultinomialNB(alpha=1.0, class_prior=None, fit_prior=True)"
      ]
     },
     "execution_count": 13,
     "metadata": {},
     "output_type": "execute_result"
    }
   ],
   "source": [
    "from sklearn.naive_bayes import MultinomialNB\n",
    "clf = MultinomialNB()\n",
    "clf.fit(tfidf_message_train, df_train['Target'])"
   ]
  },
  {
   "cell_type": "code",
   "execution_count": 14,
   "metadata": {
    "collapsed": false
   },
   "outputs": [
    {
     "name": "stdout",
     "output_type": "stream",
     "text": [
      "Accuracy on the test set, using only messages: 0.7700477960701009\n"
     ]
    }
   ],
   "source": [
    "print('Accuracy on the test set, using only messages: {0}'\\\n",
    "      .format(clf.score(tfidf_message_test, df_test['Target'])))"
   ]
  },
  {
   "cell_type": "markdown",
   "metadata": {},
   "source": [
    "## Train also with subjects"
   ]
  },
  {
   "cell_type": "code",
   "execution_count": 15,
   "metadata": {
    "collapsed": false
   },
   "outputs": [
    {
     "data": {
      "text/plain": [
       "MultinomialNB(alpha=1.0, class_prior=None, fit_prior=True)"
      ]
     },
     "execution_count": 15,
     "metadata": {},
     "output_type": "execute_result"
    }
   ],
   "source": [
    "from scipy.sparse import hstack\n",
    "train_matrix = hstack([tfidf_message_train, tfidf_subject_train])\n",
    "test_matrix = hstack([tfidf_message_test, tfidf_subject_test])\n",
    "\n",
    "clf_subject = MultinomialNB()\n",
    "clf_subject.fit(train_matrix, df_train['Target'])"
   ]
  },
  {
   "cell_type": "code",
   "execution_count": 16,
   "metadata": {
    "collapsed": false
   },
   "outputs": [
    {
     "name": "stdout",
     "output_type": "stream",
     "text": [
      "Accuracy on the test set, using messages and subjects: 0.7756240042485396\n"
     ]
    }
   ],
   "source": [
    "print('Accuracy on the test set, using messages and subjects: {0}'\\\n",
    "      .format(clf_subject.score(test_matrix, df_test['Target'])))"
   ]
  },
  {
   "cell_type": "markdown",
   "metadata": {},
   "source": [
    "# Cluster"
   ]
  },
  {
   "cell_type": "code",
   "execution_count": 17,
   "metadata": {
    "collapsed": false
   },
   "outputs": [
    {
     "data": {
      "text/plain": [
       "array([ 4,  4, 11, ..., 12,  9,  9], dtype=int32)"
      ]
     },
     "execution_count": 17,
     "metadata": {},
     "output_type": "execute_result"
    }
   ],
   "source": [
    "from sklearn.cluster import KMeans\n",
    "\n",
    "km = KMeans(n_clusters=20, random_state=0)\n",
    "km.fit_predict(train_matrix)"
   ]
  },
  {
   "cell_type": "code",
   "execution_count": 18,
   "metadata": {
    "collapsed": false
   },
   "outputs": [
    {
     "name": "stdout",
     "output_type": "stream",
     "text": [
      "Homogeneity: 0.360\n",
      "Completeness: 0.471\n",
      "V-measure: 0.408\n",
      "Adjusted Rand-Index: 0.123\n",
      "Silhouette Coefficient: -0.043\n"
     ]
    }
   ],
   "source": [
    "from sklearn import metrics\n",
    "\n",
    "labels = df_train['Target']\n",
    "print(\"Homogeneity: %0.3f\" % metrics.homogeneity_score(labels, km.labels_))\n",
    "print(\"Completeness: %0.3f\" % metrics.completeness_score(labels, km.labels_))\n",
    "print(\"V-measure: %0.3f\" % metrics.v_measure_score(labels, km.labels_))\n",
    "print(\"Adjusted Rand-Index: %.3f\"\n",
    "      % metrics.adjusted_rand_score(labels, km.labels_))\n",
    "print(\"Silhouette Coefficient: %0.3f\"\n",
    "      % metrics.silhouette_score(train_matrix, km.labels_, sample_size=1000))"
   ]
  },
  {
   "cell_type": "code",
   "execution_count": 19,
   "metadata": {
    "collapsed": false
   },
   "outputs": [
    {
     "name": "stdout",
     "output_type": "stream",
     "text": [
      "Cluster 0: question question thank ani doe answer use just know x-termin\n",
      "Cluster 1: geb gordon bank shame surrend soon shame surrend surrend soon geb shame surrend geb shame chastiti intellect geb intellect geb intellect geb shame\n",
      "Cluster 2: armenian turkish armenian armenia turk muslim turkey azeri genocid azerbaijan\n",
      "Cluster 3: peopl govern moral articl right law think just say state\n",
      "Cluster 4: articl use just like ani know think post time doe\n",
      "Cluster 5: game team player play win year season hockey score fan\n",
      "Cluster 6: problem problem window error use run thank screen tri ani\n",
      "Cluster 7: drive forsal scsi drive ide disk hard drive hard floppi control\n",
      "Cluster 8: want thank look pleas email e-mail info want want game anyon\n",
      "Cluster 9: file file window faq program format use imag directori ftp\n",
      "Cluster 10: thank use sale anyon ani pleas doe know need card\n",
      "Cluster 11: car bike ride articl dod just like ani engin look\n",
      "Cluster 12: help need need help help help need thank ani pleas use appreci\n",
      "Cluster 13: god christian jesus bibl believ church peopl christ say faith\n",
      "Cluster 14: sale sale offer sell condit best offer new price ask excel\n",
      "Cluster 15: gun weapon firearm crimin handgun crime peopl polic kill law\n",
      "Cluster 16: israel isra arab clinton jew palestinian lebanes kill state lebanon\n",
      "Cluster 17: window driver window card driver use video dos card run\n",
      "Cluster 18: gld gari dare dare domi selann domi stanley gld selann selann domi gld selann domi winnipeg jet gld jet gld selann\n",
      "Cluster 19: key encrypt chip clipper secur escrow clipper govern use phone\n"
     ]
    }
   ],
   "source": [
    "order_centroids = km.cluster_centers_.argsort()[:, ::-1]\n",
    "terms1 = tfidf_vectorizer_message.get_feature_names()\n",
    "terms2 = tfidf_vectorizer_subject.get_feature_names()\n",
    "terms = terms1 + terms2\n",
    "for i in range(20):\n",
    "    print(\"Cluster %d:\" % i, end='')\n",
    "    for ind in order_centroids[i, :10]:\n",
    "        print(' %s' % terms[ind], end='')\n",
    "    print()"
   ]
  },
  {
   "cell_type": "code",
   "execution_count": 20,
   "metadata": {
    "collapsed": false
   },
   "outputs": [
    {
     "data": {
      "text/plain": [
       "20110"
      ]
     },
     "execution_count": 20,
     "metadata": {},
     "output_type": "execute_result"
    }
   ],
   "source": [
    "len(terms)"
   ]
  },
  {
   "cell_type": "code",
   "execution_count": 21,
   "metadata": {
    "collapsed": false
   },
   "outputs": [
    {
     "data": {
      "text/plain": [
       "(20, 20110)"
      ]
     },
     "execution_count": 21,
     "metadata": {},
     "output_type": "execute_result"
    }
   ],
   "source": [
    "order_centroids.shape"
   ]
  },
  {
   "cell_type": "markdown",
   "metadata": {},
   "source": [
    "## Only with messages"
   ]
  },
  {
   "cell_type": "code",
   "execution_count": 22,
   "metadata": {
    "collapsed": false
   },
   "outputs": [
    {
     "data": {
      "text/plain": [
       "array([ 6,  0,  0, ..., 11,  7,  7], dtype=int32)"
      ]
     },
     "execution_count": 22,
     "metadata": {},
     "output_type": "execute_result"
    }
   ],
   "source": [
    "km = KMeans(n_clusters=20, random_state=0)\n",
    "km.fit_predict(tfidf_message_train)"
   ]
  },
  {
   "cell_type": "code",
   "execution_count": 23,
   "metadata": {
    "collapsed": false
   },
   "outputs": [
    {
     "name": "stdout",
     "output_type": "stream",
     "text": [
      "Homogeneity: 0.401\n",
      "Completeness: 0.479\n",
      "V-measure: 0.437\n",
      "Adjusted Rand-Index: 0.144\n",
      "Silhouette Coefficient: 0.011\n"
     ]
    }
   ],
   "source": [
    "\n",
    "labels = df_train['Target']\n",
    "print(\"Homogeneity: %0.3f\" % metrics.homogeneity_score(labels, km.labels_))\n",
    "print(\"Completeness: %0.3f\" % metrics.completeness_score(labels, km.labels_))\n",
    "print(\"V-measure: %0.3f\" % metrics.v_measure_score(labels, km.labels_))\n",
    "print(\"Adjusted Rand-Index: %.3f\"\n",
    "      % metrics.adjusted_rand_score(labels, km.labels_))\n",
    "print(\"Silhouette Coefficient: %0.3f\"\n",
    "      % metrics.silhouette_score(tfidf_message_train, km.labels_, sample_size=1000))"
   ]
  },
  {
   "cell_type": "code",
   "execution_count": 24,
   "metadata": {
    "collapsed": false
   },
   "outputs": [
    {
     "name": "stdout",
     "output_type": "stream",
     "text": [
      "Cluster 0: bike ride dod motorcycl dog helmet rider articl max bmw\n",
      "Cluster 1: armenian turkish turk armenia turkey greek azeri genocid peopl azerbaijan\n",
      "Cluster 2: moral object islam keith livesey muslim valu frank jon articl\n",
      "Cluster 3: drive scsi disk ide hard drive hard floppi control problem boot\n",
      "Cluster 4: fbi koresh robi gas cdt batf compound children tear gas tear\n",
      "Cluster 5: window driver dos card use version run problem program video\n",
      "Cluster 6: articl just like use think ani know time post say\n",
      "Cluster 7: file directori window program format use ftp imag ani convert\n",
      "Cluster 8: doe anyon anyon know doe anyon know anyon doe know thank ani anyon know ani program\n",
      "Cluster 9: geb gordon bank chastiti intellect geb intellect geb intellect geb shame shame surrend soon shame surrend geb shame surrend surrend soon geb shame\n",
      "Cluster 10: gun peopl govern law right weapon state think crime make\n",
      "Cluster 11: thank pleas ani thank advanc advanc e-mail appreci email anyon mail\n",
      "Cluster 12: car engin articl henri just drive dealer speed good like\n",
      "Cluster 13: game team player play win year season hockey score fan\n",
      "Cluster 14: use program imag run problem code work server widget graphic\n",
      "Cluster 15: key encrypt chip clipper escrow secur use phone govern clipper chip\n",
      "Cluster 16: card sale simm offer mac use monitor price modem ship\n",
      "Cluster 17: israel isra arab jew palestinian lebanes kill lebanon polici soldier\n",
      "Cluster 18: god christian jesus bibl believ church peopl christ faith say\n",
      "Cluster 19: david sternlight sternlight nsa key david secur trust strnlght strnlght david strnlght david sternlight\n"
     ]
    }
   ],
   "source": [
    "order_centroids = km.cluster_centers_.argsort()[:, ::-1]\n",
    "terms = tfidf_vectorizer_message.get_feature_names()\n",
    "for i in range(20):\n",
    "    print(\"Cluster %d:\" % i, end='')\n",
    "    for ind in order_centroids[i, :10]:\n",
    "        print(' %s' % terms[ind], end='')\n",
    "    print()"
   ]
  },
  {
   "cell_type": "code",
   "execution_count": null,
   "metadata": {
    "collapsed": true
   },
   "outputs": [],
   "source": []
  }
 ],
 "metadata": {
  "kernelspec": {
   "display_name": "Python 3",
   "language": "python",
   "name": "python3"
  },
  "language_info": {
   "codemirror_mode": {
    "name": "ipython",
    "version": 3
   },
   "file_extension": ".py",
   "mimetype": "text/x-python",
   "name": "python",
   "nbconvert_exporter": "python",
   "pygments_lexer": "ipython3",
   "version": "3.5.2"
  }
 },
 "nbformat": 4,
 "nbformat_minor": 2
}
