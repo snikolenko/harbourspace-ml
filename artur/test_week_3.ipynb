{
 "cells": [
  {
   "cell_type": "code",
   "execution_count": 120,
   "metadata": {
    "collapsed": true
   },
   "outputs": [],
   "source": [
    "import os\n",
    "import pandas as pd\n",
    "import numpy as np\n",
    "\n"
   ]
  },
  {
   "cell_type": "markdown",
   "metadata": {},
   "source": [
    "# Load dataset"
   ]
  },
  {
   "cell_type": "code",
   "execution_count": 121,
   "metadata": {
    "collapsed": false
   },
   "outputs": [
    {
     "name": "stdout",
     "output_type": "stream",
     "text": [
      "Decoding error: ../data/nlp/20news-bydate-train/misc.forsale/76548\n",
      "Decoding error: ../data/nlp/20news-bydate-train/misc.forsale/76112\n",
      "Decoding error: ../data/nlp/20news-bydate-train/comp.sys.mac.hardware/51594\n",
      "Decoding error: ../data/nlp/20news-bydate-train/comp.sys.mac.hardware/50467\n",
      "Decoding error: ../data/nlp/20news-bydate-train/comp.sys.mac.hardware/51592\n",
      "Decoding error: ../data/nlp/20news-bydate-train/comp.sys.mac.hardware/51593\n",
      "Decoding error: ../data/nlp/20news-bydate-train/comp.sys.mac.hardware/51916\n",
      "Decoding error: ../data/nlp/20news-bydate-train/comp.sys.mac.hardware/51865\n",
      "Decoding error: ../data/nlp/20news-bydate-train/comp.sys.mac.hardware/51941\n",
      "Decoding error: ../data/nlp/20news-bydate-train/comp.sys.mac.hardware/51892\n",
      "Decoding error: ../data/nlp/20news-bydate-train/comp.sys.mac.hardware/51904\n",
      "Decoding error: ../data/nlp/20news-bydate-train/comp.sys.mac.hardware/51591\n",
      "Decoding error: ../data/nlp/20news-bydate-train/comp.sys.mac.hardware/51917\n",
      "Decoding error: ../data/nlp/20news-bydate-train/sci.crypt/15672\n",
      "Decoding error: ../data/nlp/20news-bydate-train/talk.religion.misc/83651\n",
      "Decoding error: ../data/nlp/20news-bydate-train/talk.religion.misc/83777\n",
      "Decoding error: ../data/nlp/20news-bydate-train/talk.religion.misc/82776\n",
      "Decoding error: ../data/nlp/20news-bydate-train/comp.windows.x/66871\n",
      "Decoding error: ../data/nlp/20news-bydate-train/comp.windows.x/67305\n",
      "Decoding error: ../data/nlp/20news-bydate-train/comp.windows.x/66923\n",
      "Decoding error: ../data/nlp/20news-bydate-train/rec.sport.baseball/104572\n",
      "Decoding error: ../data/nlp/20news-bydate-train/rec.sport.baseball/104419\n",
      "Decoding error: ../data/nlp/20news-bydate-train/rec.sport.baseball/104474\n",
      "Decoding error: ../data/nlp/20news-bydate-train/rec.sport.baseball/104471\n",
      "Decoding error: ../data/nlp/20news-bydate-train/rec.sport.baseball/104562\n",
      "Decoding error: ../data/nlp/20news-bydate-train/rec.sport.baseball/104352\n",
      "Decoding error: ../data/nlp/20news-bydate-train/alt.atheism/49960\n",
      "Decoding error: ../data/nlp/20news-bydate-train/alt.atheism/52499\n",
      "Decoding error: ../data/nlp/20news-bydate-train/alt.atheism/52910\n",
      "Decoding error: ../data/nlp/20news-bydate-train/alt.atheism/51060\n",
      "Decoding error: ../data/nlp/20news-bydate-train/alt.atheism/52909\n",
      "Decoding error: ../data/nlp/20news-bydate-train/sci.med/59055\n",
      "Decoding error: ../data/nlp/20news-bydate-train/sci.med/59239\n",
      "Decoding error: ../data/nlp/20news-bydate-train/rec.autos/101596\n",
      "Decoding error: ../data/nlp/20news-bydate-train/sci.electronics/53721\n",
      "Decoding error: ../data/nlp/20news-bydate-train/sci.electronics/53803\n",
      "Decoding error: ../data/nlp/20news-bydate-train/sci.electronics/53883\n",
      "Decoding error: ../data/nlp/20news-bydate-train/comp.graphics/38490\n",
      "Decoding error: ../data/nlp/20news-bydate-train/comp.graphics/38291\n",
      "Decoding error: ../data/nlp/20news-bydate-train/comp.graphics/38568\n",
      "Decoding error: ../data/nlp/20news-bydate-train/comp.graphics/38489\n",
      "Decoding error: ../data/nlp/20news-bydate-train/comp.graphics/38757\n",
      "Decoding error: ../data/nlp/20news-bydate-train/comp.sys.ibm.pc.hardware/60366\n",
      "Decoding error: ../data/nlp/20news-bydate-train/comp.sys.ibm.pc.hardware/60498\n"
     ]
    }
   ],
   "source": [
    "path = '../data/nlp/20news-bydate-train/'\n",
    "array = []\n",
    "for dir1 in os.listdir(path):\n",
    "    if os.path.isdir(os.path.join(path, dir1)):\n",
    "        \n",
    "        for file1 in os.listdir(os.path.join(path, dir1)):\n",
    "            #print(os.path.join(path, dir1, file1))\n",
    "            dct = {'From': '', 'Lines': '', 'Subject': '', 'Organization': ''}\n",
    "            with open(os.path.join(path, dir1, file1), 'r', encoding='utf-8') as f:\n",
    "                try:\n",
    "                    lines = f.readlines()\n",
    "                except:\n",
    "                    print('Decoding error: {0}'.format(os.path.join(path, dir1, file1)))\n",
    "            for i, line in enumerate(lines):\n",
    "                splitted = line.strip().split(': ')\n",
    "                if len(splitted) < 2:\n",
    "                    break\n",
    "                dct[splitted[0]] = splitted[1]\n",
    "\n",
    "            message = '\\n'.join(lines[i:])\n",
    "            array.append((dct['From'], dct['Lines'], dct['Subject'], dct['Organization'], message, dir1))\n"
   ]
  },
  {
   "cell_type": "code",
   "execution_count": 122,
   "metadata": {
    "collapsed": false
   },
   "outputs": [],
   "source": [
    "df = pd.DataFrame(array, columns=['From', 'Lines', 'Subject', 'Organization', 'Message', 'Category'])"
   ]
  },
  {
   "cell_type": "code",
   "execution_count": 123,
   "metadata": {
    "collapsed": false
   },
   "outputs": [
    {
     "name": "stdout",
     "output_type": "stream",
     "text": [
      "Decoding error: ../data/nlp/20news-bydate-test/rec.sport.hockey/54000\n",
      "Decoding error: ../data/nlp/20news-bydate-test/rec.sport.hockey/53879\n",
      "Decoding error: ../data/nlp/20news-bydate-test/rec.sport.hockey/54036\n",
      "Decoding error: ../data/nlp/20news-bydate-test/rec.sport.hockey/54769\n",
      "Decoding error: ../data/nlp/20news-bydate-test/rec.sport.hockey/54042\n",
      "Decoding error: ../data/nlp/20news-bydate-test/rec.sport.hockey/54516\n",
      "Decoding error: ../data/nlp/20news-bydate-test/misc.forsale/76361\n",
      "Decoding error: ../data/nlp/20news-bydate-test/misc.forsale/76843\n",
      "Decoding error: ../data/nlp/20news-bydate-test/comp.sys.mac.hardware/52196\n",
      "Decoding error: ../data/nlp/20news-bydate-test/comp.sys.mac.hardware/52033\n",
      "Decoding error: ../data/nlp/20news-bydate-test/comp.sys.mac.hardware/52165\n",
      "Decoding error: ../data/nlp/20news-bydate-test/comp.sys.mac.hardware/52164\n",
      "Decoding error: ../data/nlp/20news-bydate-test/comp.windows.x/68001\n",
      "Decoding error: ../data/nlp/20news-bydate-test/rec.sport.baseball/104984\n",
      "Decoding error: ../data/nlp/20news-bydate-test/alt.atheism/54163\n",
      "Decoding error: ../data/nlp/20news-bydate-test/alt.atheism/54164\n",
      "Decoding error: ../data/nlp/20news-bydate-test/sci.med/59535\n",
      "Decoding error: ../data/nlp/20news-bydate-test/sci.space/61556\n",
      "Decoding error: ../data/nlp/20news-bydate-test/sci.space/61534\n",
      "Decoding error: ../data/nlp/20news-bydate-test/sci.space/61293\n",
      "Decoding error: ../data/nlp/20news-bydate-test/rec.autos/103700\n",
      "Decoding error: ../data/nlp/20news-bydate-test/rec.autos/103694\n",
      "Decoding error: ../data/nlp/20news-bydate-test/rec.autos/103725\n",
      "Decoding error: ../data/nlp/20news-bydate-test/sci.electronics/54485\n",
      "Decoding error: ../data/nlp/20news-bydate-test/sci.electronics/54071\n",
      "Decoding error: ../data/nlp/20news-bydate-test/sci.electronics/54070\n",
      "Decoding error: ../data/nlp/20news-bydate-test/comp.sys.ibm.pc.hardware/61116\n",
      "Decoding error: ../data/nlp/20news-bydate-test/comp.sys.ibm.pc.hardware/60936\n",
      "Decoding error: ../data/nlp/20news-bydate-test/comp.sys.ibm.pc.hardware/60868\n"
     ]
    }
   ],
   "source": [
    "path = '../data/nlp/20news-bydate-test/'\n",
    "\n",
    "array = []\n",
    "for dir1 in os.listdir(path):\n",
    "    if os.path.isdir(os.path.join(path, dir1)):\n",
    "        \n",
    "        for file1 in os.listdir(os.path.join(path, dir1)):\n",
    "            #print(os.path.join(path, dir1, file1))\n",
    "            dct = {'From': '', 'Lines': '', 'Subject': '', 'Organization': ''}\n",
    "            with open(os.path.join(path, dir1, file1), 'r', encoding='utf-8') as f:\n",
    "                try:\n",
    "                    lines = f.readlines()\n",
    "                except:\n",
    "                    print('Decoding error: {0}'.format(os.path.join(path, dir1, file1)))\n",
    "            for i, line in enumerate(lines):\n",
    "                splitted = line.strip().split(': ')\n",
    "                if len(splitted) < 2:\n",
    "                    break\n",
    "                dct[splitted[0]] = splitted[1]\n",
    "\n",
    "            message = '\\n'.join(lines[i:])\n",
    "            array.append((dct['From'], dct['Lines'], dct['Subject'], dct['Organization'], message, dir1))\n",
    "\n",
    "df_test = pd.DataFrame(array, columns=['From', 'Lines', 'Subject', 'Organization', 'Message', 'Category'])"
   ]
  },
  {
   "cell_type": "code",
   "execution_count": 124,
   "metadata": {
    "collapsed": false
   },
   "outputs": [
    {
     "name": "stdout",
     "output_type": "stream",
     "text": [
      "(11314, 6)\n",
      "(7532, 6)\n"
     ]
    }
   ],
   "source": [
    "df_train = df\n",
    "print(df_train.shape)\n",
    "print(df_test.shape)"
   ]
  },
  {
   "cell_type": "code",
   "execution_count": 125,
   "metadata": {
    "collapsed": false
   },
   "outputs": [],
   "source": [
    "from sklearn.preprocessing import LabelEncoder\n",
    "df_train['Target'] = LabelEncoder().fit_transform(df_train['Category'])\n",
    "df_test['Target'] = LabelEncoder().fit_transform(df_test['Category'])"
   ]
  },
  {
   "cell_type": "code",
   "execution_count": 126,
   "metadata": {
    "collapsed": false
   },
   "outputs": [],
   "source": [
    "df_train['Re'] = (df_train['Subject'] == 'Re').map(lambda x: 1 if x else 0)\n",
    "df_test['Re'] = (df_test['Subject'] == 'Re').map(lambda x: 1 if x else 0)\n",
    "df_train['Subject'] = df_train['Subject'].map(lambda x: '' if x == 'Re' else x)\n",
    "df_test['Subject'] = df_test['Subject'].map(lambda x: '' if x == 'Re' else x)"
   ]
  },
  {
   "cell_type": "markdown",
   "metadata": {},
   "source": [
    "# Get features"
   ]
  },
  {
   "cell_type": "code",
   "execution_count": 127,
   "metadata": {
    "collapsed": false
   },
   "outputs": [],
   "source": [
    "import nltk\n",
    "from nltk.stem.snowball import SnowballStemmer\n",
    "from sklearn.feature_extraction.text import TfidfVectorizer\n",
    "import re\n",
    "\n",
    "stopwords = nltk.corpus.stopwords.words('english')\n",
    "stemmer = SnowballStemmer(\"english\")\n",
    "\n",
    "def tokenize_and_stem(text):\n",
    "    # first tokenize by sentence, then by word to ensure that punctuation is caught as it's own token\n",
    "    tokens = [word for sent in nltk.sent_tokenize(text) for word in nltk.word_tokenize(sent) if \\\n",
    "              len([letter for letter in word if letter.isalpha()]) > 2 and '.' not in word]\n",
    "    filtered_tokens = []\n",
    "    # filter out any tokens not containing letters (e.g., numeric tokens, raw punctuation)\n",
    "    for token in tokens:\n",
    "        if re.search('[a-zA-Z]', token):\n",
    "            filtered_tokens.append(token)\n",
    "    stems = [stemmer.stem(t) for t in filtered_tokens]\n",
    "    return stems\n"
   ]
  },
  {
   "cell_type": "code",
   "execution_count": 128,
   "metadata": {
    "collapsed": false
   },
   "outputs": [],
   "source": [
    "tfidf_vectorizer_message = TfidfVectorizer(max_df=0.5, max_features=200000,\n",
    "                                 min_df=10, stop_words='english',\n",
    "                                use_idf=True, tokenizer=tokenize_and_stem, ngram_range=(1,3))\n",
    "\n",
    "tfidf_message_train = tfidf_vectorizer_message.fit_transform(df_train['Message'])"
   ]
  },
  {
   "cell_type": "code",
   "execution_count": 129,
   "metadata": {
    "collapsed": false
   },
   "outputs": [],
   "source": [
    "tfidf_message_test = tfidf_vectorizer_message.transform(df_test['Message'])"
   ]
  },
  {
   "cell_type": "code",
   "execution_count": 130,
   "metadata": {
    "collapsed": true
   },
   "outputs": [],
   "source": [
    "tfidf_vectorizer_subject = TfidfVectorizer(max_df=0.8, max_features=200000,\n",
    "                                 min_df=2, stop_words='english',\n",
    "                                use_idf=True, tokenizer=tokenize_and_stem, ngram_range=(1,3))\n",
    "\n",
    "tfidf_subject_train = tfidf_vectorizer_subject.fit_transform(df_train['Subject'])\n",
    "tfidf_subject_test = tfidf_vectorizer_subject.transform(df_test['Subject'])"
   ]
  },
  {
   "cell_type": "markdown",
   "metadata": {},
   "source": [
    "# Classify"
   ]
  },
  {
   "cell_type": "markdown",
   "metadata": {},
   "source": [
    "## Train only with messages"
   ]
  },
  {
   "cell_type": "code",
   "execution_count": 131,
   "metadata": {
    "collapsed": false
   },
   "outputs": [
    {
     "data": {
      "text/plain": [
       "MultinomialNB(alpha=1.0, class_prior=None, fit_prior=True)"
      ]
     },
     "execution_count": 131,
     "metadata": {},
     "output_type": "execute_result"
    }
   ],
   "source": [
    "from sklearn.naive_bayes import MultinomialNB\n",
    "clf = MultinomialNB()\n",
    "clf.fit(tfidf_message_train, df_train['Target'])"
   ]
  },
  {
   "cell_type": "code",
   "execution_count": 132,
   "metadata": {
    "collapsed": false
   },
   "outputs": [
    {
     "name": "stdout",
     "output_type": "stream",
     "text": [
      "Accuracy on the test set, using only messages: 0.7693839617631439\n"
     ]
    }
   ],
   "source": [
    "print('Accuracy on the test set, using only messages: {0}'\\\n",
    "      .format(clf.score(tfidf_message_test, df_test['Target'])))"
   ]
  },
  {
   "cell_type": "markdown",
   "metadata": {},
   "source": [
    "## Train also with subjects"
   ]
  },
  {
   "cell_type": "code",
   "execution_count": 133,
   "metadata": {
    "collapsed": false
   },
   "outputs": [
    {
     "data": {
      "text/plain": [
       "MultinomialNB(alpha=1.0, class_prior=None, fit_prior=True)"
      ]
     },
     "execution_count": 133,
     "metadata": {},
     "output_type": "execute_result"
    }
   ],
   "source": [
    "from scipy.sparse import hstack\n",
    "train_matrix = hstack([tfidf_message_train, tfidf_subject_train])\n",
    "test_matrix = hstack([tfidf_message_test, tfidf_subject_test])\n",
    "\n",
    "clf_subject = MultinomialNB()\n",
    "clf_subject.fit(train_matrix, df_train['Target'])"
   ]
  },
  {
   "cell_type": "code",
   "execution_count": 134,
   "metadata": {
    "collapsed": false
   },
   "outputs": [
    {
     "name": "stdout",
     "output_type": "stream",
     "text": [
      "Accuracy on the test set, using messages and subjects: 0.7749601699415826\n"
     ]
    }
   ],
   "source": [
    "print('Accuracy on the test set, using messages and subjects: {0}'\\\n",
    "      .format(clf_subject.score(test_matrix, df_test['Target'])))"
   ]
  },
  {
   "cell_type": "markdown",
   "metadata": {},
   "source": [
    "# Cluster"
   ]
  },
  {
   "cell_type": "code",
   "execution_count": 135,
   "metadata": {
    "collapsed": false
   },
   "outputs": [
    {
     "data": {
      "text/plain": [
       "array([18,  5, 18, ...,  5,  2,  6], dtype=int32)"
      ]
     },
     "execution_count": 135,
     "metadata": {},
     "output_type": "execute_result"
    }
   ],
   "source": [
    "from sklearn.cluster import KMeans\n",
    "\n",
    "km = KMeans(n_clusters=20, random_state=0)\n",
    "km.fit_predict(train_matrix)"
   ]
  },
  {
   "cell_type": "code",
   "execution_count": 136,
   "metadata": {
    "collapsed": false
   },
   "outputs": [
    {
     "name": "stdout",
     "output_type": "stream",
     "text": [
      "Homogeneity: 0.376\n",
      "Completeness: 0.450\n",
      "V-measure: 0.410\n",
      "Adjusted Rand-Index: 0.134\n",
      "Silhouette Coefficient: -0.039\n"
     ]
    }
   ],
   "source": [
    "from sklearn import metrics\n",
    "\n",
    "labels = df_train['Target']\n",
    "print(\"Homogeneity: %0.3f\" % metrics.homogeneity_score(labels, km.labels_))\n",
    "print(\"Completeness: %0.3f\" % metrics.completeness_score(labels, km.labels_))\n",
    "print(\"V-measure: %0.3f\" % metrics.v_measure_score(labels, km.labels_))\n",
    "print(\"Adjusted Rand-Index: %.3f\"\n",
    "      % metrics.adjusted_rand_score(labels, km.labels_))\n",
    "print(\"Silhouette Coefficient: %0.3f\"\n",
    "      % metrics.silhouette_score(train_matrix, km.labels_, sample_size=1000))"
   ]
  },
  {
   "cell_type": "code",
   "execution_count": 140,
   "metadata": {
    "collapsed": false
   },
   "outputs": [
    {
     "name": "stdout",
     "output_type": "stream",
     "text": [
      "Cluster 0: drive forsal scsi disk drive ide hard drive hard floppi control\n",
      "Cluster 1: god christian jesus believ bibl peopl christ say faith church\n",
      "Cluster 2: use sale simm work mac appl chip comput like doe\n",
      "Cluster 3: car bike ride articl engin car just like drive look\n",
      "Cluster 4: armenian clinton israel isra turkish arab armenian turk armenia turkey\n",
      "Cluster 5: card problem card driver video video monitor monitor video card window\n",
      "Cluster 6: articl just like think ani say use know post time\n",
      "Cluster 7: want thank look pleas email e-mail info want game anyon ani\n",
      "Cluster 8: sale sale offer condit best offer sell make offer ask new excel\n",
      "Cluster 9: file file window format directori program use imag format convert\n",
      "Cluster 10: geb gordon bank shame surrend soon surrend soon shame surrend geb shame surrend geb shame chastiti intellect geb intellect geb intellect geb shame\n",
      "Cluster 11: question question thank ani doe answer use just know x-termin\n",
      "Cluster 12: space space orbit henri launch msg moon nasa satellit lunar\n",
      "Cluster 13: game team year basebal win pitch season player play hit\n",
      "Cluster 14: key encrypt chip clipper clipper escrow secur use govern phone\n",
      "Cluster 15: help need need help help help need thank ani pleas pleas use\n",
      "Cluster 16: window window dos use run program font applic version manag\n",
      "Cluster 17: thank anyon ani pleas need know doe anyon doe advanc anyon know\n",
      "Cluster 18: peopl gun govern right law articl think state like just\n",
      "Cluster 19: team player play hockey nhl game win nhl cup playoff\n"
     ]
    }
   ],
   "source": [
    "order_centroids = km.cluster_centers_.argsort()[:, ::-1]\n",
    "terms1 = tfidf_vectorizer_message.get_feature_names()\n",
    "terms2 = tfidf_vectorizer_subject.get_feature_names()\n",
    "terms = terms1 + terms2\n",
    "for i in range(20):\n",
    "    print(\"Cluster %d:\" % i, end='')\n",
    "    for ind in order_centroids[i, :10]:\n",
    "        print(' %s' % terms[ind], end='')\n",
    "    print()"
   ]
  },
  {
   "cell_type": "code",
   "execution_count": 138,
   "metadata": {
    "collapsed": false
   },
   "outputs": [
    {
     "data": {
      "text/plain": [
       "35182"
      ]
     },
     "execution_count": 138,
     "metadata": {},
     "output_type": "execute_result"
    }
   ],
   "source": [
    "len(terms)"
   ]
  },
  {
   "cell_type": "code",
   "execution_count": 139,
   "metadata": {
    "collapsed": false
   },
   "outputs": [
    {
     "data": {
      "text/plain": [
       "(20, 20081)"
      ]
     },
     "execution_count": 139,
     "metadata": {},
     "output_type": "execute_result"
    }
   ],
   "source": [
    "order_centroids.shape"
   ]
  },
  {
   "cell_type": "markdown",
   "metadata": {},
   "source": [
    "## Only with messages"
   ]
  },
  {
   "cell_type": "code",
   "execution_count": 141,
   "metadata": {
    "collapsed": false
   },
   "outputs": [
    {
     "data": {
      "text/plain": [
       "array([17,  3, 18, ...,  3,  7, 18], dtype=int32)"
      ]
     },
     "execution_count": 141,
     "metadata": {},
     "output_type": "execute_result"
    }
   ],
   "source": [
    "km = KMeans(n_clusters=20, random_state=0)\n",
    "km.fit_predict(tfidf_message_train)"
   ]
  },
  {
   "cell_type": "code",
   "execution_count": 142,
   "metadata": {
    "collapsed": false
   },
   "outputs": [
    {
     "name": "stdout",
     "output_type": "stream",
     "text": [
      "Homogeneity: 0.388\n",
      "Completeness: 0.478\n",
      "V-measure: 0.428\n",
      "Adjusted Rand-Index: 0.122\n",
      "Silhouette Coefficient: -0.043\n"
     ]
    }
   ],
   "source": [
    "\n",
    "labels = df_train['Target']\n",
    "print(\"Homogeneity: %0.3f\" % metrics.homogeneity_score(labels, km.labels_))\n",
    "print(\"Completeness: %0.3f\" % metrics.completeness_score(labels, km.labels_))\n",
    "print(\"V-measure: %0.3f\" % metrics.v_measure_score(labels, km.labels_))\n",
    "print(\"Adjusted Rand-Index: %.3f\"\n",
    "      % metrics.adjusted_rand_score(labels, km.labels_))\n",
    "print(\"Silhouette Coefficient: %0.3f\"\n",
    "      % metrics.silhouette_score(tfidf_message_train, km.labels_, sample_size=1000))"
   ]
  },
  {
   "cell_type": "code",
   "execution_count": 143,
   "metadata": {
    "collapsed": false
   },
   "outputs": [
    {
     "name": "stdout",
     "output_type": "stream",
     "text": [
      "Cluster 0: thank anyon ani doe anyon pleas know doe anyon know thank advanc advanc\n",
      "Cluster 1: space henri orbit launch moon nasa lunar satellit shuttl earth\n",
      "Cluster 2: file directori program window use imag ftp format convert ani\n",
      "Cluster 3: card driver video video card window bus vesa ati use diamond\n",
      "Cluster 4: car bike ride articl just dod like engin ani good\n",
      "Cluster 5: drive scsi disk ide hard drive hard floppi control boot problem\n",
      "Cluster 6: christian jesus church god bibl religion peopl christ believ faith\n",
      "Cluster 7: use simm sale offer mac price appl printer port monitor\n",
      "Cluster 8: georgia univers georgia michael covington covington mcovingt athen georgia athen michael athen georgia amateur amateur radio n4tmi\n",
      "Cluster 9: key encrypt chip clipper secur escrow govern use phone nsa\n",
      "Cluster 10: israel isra arab jew palestinian lebanes kill lebanon polici soldier\n",
      "Cluster 11: game team player play year win season hockey score fan\n",
      "Cluster 12: armenian turkish turk armenia turkey greek azeri genocid peopl azerbaijan\n",
      "Cluster 13: window dos use run program applic font problem version manag\n",
      "Cluster 14: msg food dyer chines restaur effect steve dyer steve crohn reaction\n",
      "Cluster 15: uunet uucp uucp uunet internet dtmedin gsh7w virginia hennessi fist -greg hennessi\n",
      "Cluster 16: geb gordon bank surrend soon shame surrend geb shame surrend geb shame chastiti intellect geb intellect geb intellect geb shame shame surrend soon\n",
      "Cluster 17: gun peopl govern law right think state articl weapon make\n",
      "Cluster 18: articl use just like ani post know time think doe\n",
      "Cluster 19: god moral exist believ say jesus object peopl sin atheist\n"
     ]
    }
   ],
   "source": [
    "order_centroids = km.cluster_centers_.argsort()[:, ::-1]\n",
    "terms = tfidf_vectorizer_message.get_feature_names()\n",
    "for i in range(20):\n",
    "    print(\"Cluster %d:\" % i, end='')\n",
    "    for ind in order_centroids[i, :10]:\n",
    "        print(' %s' % terms[ind], end='')\n",
    "    print()"
   ]
  },
  {
   "cell_type": "code",
   "execution_count": null,
   "metadata": {
    "collapsed": true
   },
   "outputs": [],
   "source": []
  }
 ],
 "metadata": {
  "kernelspec": {
   "display_name": "Python 3",
   "language": "python",
   "name": "python3"
  },
  "language_info": {
   "codemirror_mode": {
    "name": "ipython",
    "version": 3
   },
   "file_extension": ".py",
   "mimetype": "text/x-python",
   "name": "python",
   "nbconvert_exporter": "python",
   "pygments_lexer": "ipython3",
   "version": "3.5.2"
  }
 },
 "nbformat": 4,
 "nbformat_minor": 2
}
